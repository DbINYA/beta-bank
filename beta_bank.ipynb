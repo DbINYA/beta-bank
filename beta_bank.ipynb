{
 "cells": [
  {
   "cell_type": "markdown",
   "metadata": {
    "id": "RWGekGD4HrTB",
    "toc": true
   },
   "source": [
    "<h1>Содержание<span class=\"tocSkip\"></span></h1>\n",
    "<div class=\"toc\"><ul class=\"toc-item\"><li><span><a href=\"#Подготовка-данных\" data-toc-modified-id=\"Подготовка-данных-1\"><span class=\"toc-item-num\">1&nbsp;&nbsp;</span>Подготовка данных</a></span></li><li><span><a href=\"#Исследование-задачи\" data-toc-modified-id=\"Исследование-задачи-2\"><span class=\"toc-item-num\">2&nbsp;&nbsp;</span>Исследование задачи</a></span></li><li><span><a href=\"#Models\" data-toc-modified-id=\"Models-3\"><span class=\"toc-item-num\">3&nbsp;&nbsp;</span>Models</a></span></li><li><span><a href=\"#Борьба-с-дисбалансом\" data-toc-modified-id=\"Борьба-с-дисбалансом-4\"><span class=\"toc-item-num\">4&nbsp;&nbsp;</span>Борьба с дисбалансом</a></span></li><li><span><a href=\"#Тестирование-модели\" data-toc-modified-id=\"Тестирование-модели-5\"><span class=\"toc-item-num\">5&nbsp;&nbsp;</span>Тестирование модели</a></span></li><li><span><a href=\"#Чек-лист-готовности-проекта\" data-toc-modified-id=\"Чек-лист-готовности-проекта-6\"><span class=\"toc-item-num\">6&nbsp;&nbsp;</span>Чек-лист готовности проекта</a></span></li></ul></div>"
   ]
  },
  {
   "cell_type": "markdown",
   "metadata": {
    "id": "NS3NGdkFHrTC"
   },
   "source": [
    "# Отток клиентов"
   ]
  },
  {
   "cell_type": "markdown",
   "metadata": {
    "id": "zstrIZ_bHrTD"
   },
   "source": [
    "Из «Бета-Банка» стали уходить клиенты. Каждый месяц. Немного, но заметно. Банковские маркетологи посчитали: сохранять текущих клиентов дешевле, чем привлекать новых.\n",
    "\n",
    "Нужно спрогнозировать, уйдёт клиент из банка в ближайшее время или нет. Вам предоставлены исторические данные о поведении клиентов и расторжении договоров с банком. \n",
    "\n",
    "Постройте модель с предельно большим значением *F1*-меры. Чтобы сдать проект успешно, нужно довести метрику до 0.59. Проверьте *F1*-меру на тестовой выборке самостоятельно.\n",
    "\n",
    "Дополнительно измеряйте *AUC-ROC*, сравнивайте её значение с *F1*-мерой.\n",
    "\n",
    "Источник данных: [https://www.kaggle.com/barelydedicated/bank-customer-churn-modeling](https://www.kaggle.com/barelydedicated/bank-customer-churn-modeling)"
   ]
  },
  {
   "cell_type": "markdown",
   "metadata": {
    "id": "xebhD9MSHrTD"
   },
   "source": [
    "## Подготовка данных"
   ]
  },
  {
   "cell_type": "markdown",
   "metadata": {
    "id": "ytMMWU5QHrTE"
   },
   "source": [
    "Импортируем необходимые библиотеки"
   ]
  },
  {
   "cell_type": "code",
   "execution_count": 1,
   "metadata": {
    "colab": {
     "base_uri": "https://localhost:8080/"
    },
    "id": "TVaSbDu8HrTE",
    "outputId": "20776d8a-6082-4219-a3ab-0cee63462ba8",
    "scrolled": true
   },
   "outputs": [
    {
     "name": "stdout",
     "output_type": "stream",
     "text": [
      "Requirement already satisfied: fast_ml in c:\\users\\alber\\appdata\\local\\programs\\python\\python39\\lib\\site-packages (3.68)\n"
     ]
    },
    {
     "name": "stderr",
     "output_type": "stream",
     "text": [
      "\n",
      "[notice] A new release of pip is available: 23.0 -> 23.0.1\n",
      "[notice] To update, run: python.exe -m pip install --upgrade pip\n"
     ]
    }
   ],
   "source": [
    "!pip install fast_ml"
   ]
  },
  {
   "cell_type": "code",
   "execution_count": 2,
   "metadata": {
    "id": "q4jZgnxiHrTI"
   },
   "outputs": [],
   "source": [
    "import pandas as pd\n",
    "import numpy as np\n",
    "\n",
    "import seaborn as sns\n",
    "from matplotlib import pyplot as plt"
   ]
  },
  {
   "cell_type": "code",
   "execution_count": 3,
   "metadata": {
    "id": "rJEy9dMxHrTI"
   },
   "outputs": [],
   "source": [
    "from fast_ml.model_development import train_valid_test_split"
   ]
  },
  {
   "cell_type": "code",
   "execution_count": 4,
   "metadata": {
    "id": "jrP5-aXUHrTJ"
   },
   "outputs": [],
   "source": [
    "from sklearn.preprocessing import StandardScaler, OneHotEncoder, PolynomialFeatures\n",
    "\n",
    "from lightgbm import LGBMClassifier\n",
    "from sklearn.tree import DecisionTreeClassifier\n",
    "from sklearn.linear_model import LogisticRegression\n",
    "from sklearn.ensemble import RandomForestClassifier\n",
    "from sklearn.metrics import f1_score, confusion_matrix, accuracy_score, roc_auc_score\n",
    "from sklearn.utils import shuffle\n",
    "\n",
    "from sklearn.model_selection import GridSearchCV"
   ]
  },
  {
   "cell_type": "code",
   "execution_count": 5,
   "metadata": {
    "id": "FcpDRM_KHrTJ"
   },
   "outputs": [],
   "source": [
    "SEED = 7 # константа для random_state"
   ]
  },
  {
   "cell_type": "markdown",
   "metadata": {
    "id": "qLe1VMZYHrTK"
   },
   "source": [
    "Считываем данные и выводим общую информацию по таблице"
   ]
  },
  {
   "cell_type": "code",
   "execution_count": 6,
   "metadata": {
    "colab": {
     "base_uri": "https://localhost:8080/",
     "height": 270
    },
    "id": "K_fvtRusHrTK",
    "outputId": "91f88a2a-f3c2-4062-f84b-f15c6a3e15dd"
   },
   "outputs": [
    {
     "data": {
      "text/html": [
       "<div>\n",
       "<style scoped>\n",
       "    .dataframe tbody tr th:only-of-type {\n",
       "        vertical-align: middle;\n",
       "    }\n",
       "\n",
       "    .dataframe tbody tr th {\n",
       "        vertical-align: top;\n",
       "    }\n",
       "\n",
       "    .dataframe thead th {\n",
       "        text-align: right;\n",
       "    }\n",
       "</style>\n",
       "<table border=\"1\" class=\"dataframe\">\n",
       "  <thead>\n",
       "    <tr style=\"text-align: right;\">\n",
       "      <th></th>\n",
       "      <th>RowNumber</th>\n",
       "      <th>CustomerId</th>\n",
       "      <th>Surname</th>\n",
       "      <th>CreditScore</th>\n",
       "      <th>Geography</th>\n",
       "      <th>Gender</th>\n",
       "      <th>Age</th>\n",
       "      <th>Tenure</th>\n",
       "      <th>Balance</th>\n",
       "      <th>NumOfProducts</th>\n",
       "      <th>HasCrCard</th>\n",
       "      <th>IsActiveMember</th>\n",
       "      <th>EstimatedSalary</th>\n",
       "      <th>Exited</th>\n",
       "    </tr>\n",
       "  </thead>\n",
       "  <tbody>\n",
       "    <tr>\n",
       "      <th>0</th>\n",
       "      <td>1</td>\n",
       "      <td>15634602</td>\n",
       "      <td>Hargrave</td>\n",
       "      <td>619</td>\n",
       "      <td>France</td>\n",
       "      <td>Female</td>\n",
       "      <td>42</td>\n",
       "      <td>2.0</td>\n",
       "      <td>0.00</td>\n",
       "      <td>1</td>\n",
       "      <td>1</td>\n",
       "      <td>1</td>\n",
       "      <td>101348.88</td>\n",
       "      <td>1</td>\n",
       "    </tr>\n",
       "    <tr>\n",
       "      <th>1</th>\n",
       "      <td>2</td>\n",
       "      <td>15647311</td>\n",
       "      <td>Hill</td>\n",
       "      <td>608</td>\n",
       "      <td>Spain</td>\n",
       "      <td>Female</td>\n",
       "      <td>41</td>\n",
       "      <td>1.0</td>\n",
       "      <td>83807.86</td>\n",
       "      <td>1</td>\n",
       "      <td>0</td>\n",
       "      <td>1</td>\n",
       "      <td>112542.58</td>\n",
       "      <td>0</td>\n",
       "    </tr>\n",
       "    <tr>\n",
       "      <th>2</th>\n",
       "      <td>3</td>\n",
       "      <td>15619304</td>\n",
       "      <td>Onio</td>\n",
       "      <td>502</td>\n",
       "      <td>France</td>\n",
       "      <td>Female</td>\n",
       "      <td>42</td>\n",
       "      <td>8.0</td>\n",
       "      <td>159660.80</td>\n",
       "      <td>3</td>\n",
       "      <td>1</td>\n",
       "      <td>0</td>\n",
       "      <td>113931.57</td>\n",
       "      <td>1</td>\n",
       "    </tr>\n",
       "    <tr>\n",
       "      <th>3</th>\n",
       "      <td>4</td>\n",
       "      <td>15701354</td>\n",
       "      <td>Boni</td>\n",
       "      <td>699</td>\n",
       "      <td>France</td>\n",
       "      <td>Female</td>\n",
       "      <td>39</td>\n",
       "      <td>1.0</td>\n",
       "      <td>0.00</td>\n",
       "      <td>2</td>\n",
       "      <td>0</td>\n",
       "      <td>0</td>\n",
       "      <td>93826.63</td>\n",
       "      <td>0</td>\n",
       "    </tr>\n",
       "    <tr>\n",
       "      <th>4</th>\n",
       "      <td>5</td>\n",
       "      <td>15737888</td>\n",
       "      <td>Mitchell</td>\n",
       "      <td>850</td>\n",
       "      <td>Spain</td>\n",
       "      <td>Female</td>\n",
       "      <td>43</td>\n",
       "      <td>2.0</td>\n",
       "      <td>125510.82</td>\n",
       "      <td>1</td>\n",
       "      <td>1</td>\n",
       "      <td>1</td>\n",
       "      <td>79084.10</td>\n",
       "      <td>0</td>\n",
       "    </tr>\n",
       "  </tbody>\n",
       "</table>\n",
       "</div>"
      ],
      "text/plain": [
       "   RowNumber  CustomerId   Surname  CreditScore Geography  Gender  Age  \\\n",
       "0          1    15634602  Hargrave          619    France  Female   42   \n",
       "1          2    15647311      Hill          608     Spain  Female   41   \n",
       "2          3    15619304      Onio          502    France  Female   42   \n",
       "3          4    15701354      Boni          699    France  Female   39   \n",
       "4          5    15737888  Mitchell          850     Spain  Female   43   \n",
       "\n",
       "   Tenure    Balance  NumOfProducts  HasCrCard  IsActiveMember  \\\n",
       "0     2.0       0.00              1          1               1   \n",
       "1     1.0   83807.86              1          0               1   \n",
       "2     8.0  159660.80              3          1               0   \n",
       "3     1.0       0.00              2          0               0   \n",
       "4     2.0  125510.82              1          1               1   \n",
       "\n",
       "   EstimatedSalary  Exited  \n",
       "0        101348.88       1  \n",
       "1        112542.58       0  \n",
       "2        113931.57       1  \n",
       "3         93826.63       0  \n",
       "4         79084.10       0  "
      ]
     },
     "execution_count": 6,
     "metadata": {},
     "output_type": "execute_result"
    }
   ],
   "source": [
    "try:\n",
    "    data = pd.read_csv('/datasets/Churn.csv')\n",
    "except:\n",
    "    data = pd.read_csv('C:/Users/alber/Python/data/Churn.csv')\n",
    "df = data.copy()\n",
    "df.head()"
   ]
  },
  {
   "cell_type": "code",
   "execution_count": 7,
   "metadata": {
    "colab": {
     "base_uri": "https://localhost:8080/",
     "height": 364
    },
    "id": "coXb7VpFHrTL",
    "outputId": "5c88f64a-b48f-4c30-cc4c-259e9d93ae0b"
   },
   "outputs": [
    {
     "data": {
      "text/html": [
       "<div>\n",
       "<style scoped>\n",
       "    .dataframe tbody tr th:only-of-type {\n",
       "        vertical-align: middle;\n",
       "    }\n",
       "\n",
       "    .dataframe tbody tr th {\n",
       "        vertical-align: top;\n",
       "    }\n",
       "\n",
       "    .dataframe thead th {\n",
       "        text-align: right;\n",
       "    }\n",
       "</style>\n",
       "<table border=\"1\" class=\"dataframe\">\n",
       "  <thead>\n",
       "    <tr style=\"text-align: right;\">\n",
       "      <th></th>\n",
       "      <th>RowNumber</th>\n",
       "      <th>CustomerId</th>\n",
       "      <th>CreditScore</th>\n",
       "      <th>Age</th>\n",
       "      <th>Tenure</th>\n",
       "      <th>Balance</th>\n",
       "      <th>NumOfProducts</th>\n",
       "      <th>HasCrCard</th>\n",
       "      <th>IsActiveMember</th>\n",
       "      <th>EstimatedSalary</th>\n",
       "      <th>Exited</th>\n",
       "    </tr>\n",
       "  </thead>\n",
       "  <tbody>\n",
       "    <tr>\n",
       "      <th>count</th>\n",
       "      <td>10000.00000</td>\n",
       "      <td>1.000000e+04</td>\n",
       "      <td>10000.000000</td>\n",
       "      <td>10000.000000</td>\n",
       "      <td>9091.000000</td>\n",
       "      <td>10000.000000</td>\n",
       "      <td>10000.000000</td>\n",
       "      <td>10000.00000</td>\n",
       "      <td>10000.000000</td>\n",
       "      <td>10000.000000</td>\n",
       "      <td>10000.000000</td>\n",
       "    </tr>\n",
       "    <tr>\n",
       "      <th>mean</th>\n",
       "      <td>5000.50000</td>\n",
       "      <td>1.569094e+07</td>\n",
       "      <td>650.528800</td>\n",
       "      <td>38.921800</td>\n",
       "      <td>4.997690</td>\n",
       "      <td>76485.889288</td>\n",
       "      <td>1.530200</td>\n",
       "      <td>0.70550</td>\n",
       "      <td>0.515100</td>\n",
       "      <td>100090.239881</td>\n",
       "      <td>0.203700</td>\n",
       "    </tr>\n",
       "    <tr>\n",
       "      <th>std</th>\n",
       "      <td>2886.89568</td>\n",
       "      <td>7.193619e+04</td>\n",
       "      <td>96.653299</td>\n",
       "      <td>10.487806</td>\n",
       "      <td>2.894723</td>\n",
       "      <td>62397.405202</td>\n",
       "      <td>0.581654</td>\n",
       "      <td>0.45584</td>\n",
       "      <td>0.499797</td>\n",
       "      <td>57510.492818</td>\n",
       "      <td>0.402769</td>\n",
       "    </tr>\n",
       "    <tr>\n",
       "      <th>min</th>\n",
       "      <td>1.00000</td>\n",
       "      <td>1.556570e+07</td>\n",
       "      <td>350.000000</td>\n",
       "      <td>18.000000</td>\n",
       "      <td>0.000000</td>\n",
       "      <td>0.000000</td>\n",
       "      <td>1.000000</td>\n",
       "      <td>0.00000</td>\n",
       "      <td>0.000000</td>\n",
       "      <td>11.580000</td>\n",
       "      <td>0.000000</td>\n",
       "    </tr>\n",
       "    <tr>\n",
       "      <th>25%</th>\n",
       "      <td>2500.75000</td>\n",
       "      <td>1.562853e+07</td>\n",
       "      <td>584.000000</td>\n",
       "      <td>32.000000</td>\n",
       "      <td>2.000000</td>\n",
       "      <td>0.000000</td>\n",
       "      <td>1.000000</td>\n",
       "      <td>0.00000</td>\n",
       "      <td>0.000000</td>\n",
       "      <td>51002.110000</td>\n",
       "      <td>0.000000</td>\n",
       "    </tr>\n",
       "    <tr>\n",
       "      <th>50%</th>\n",
       "      <td>5000.50000</td>\n",
       "      <td>1.569074e+07</td>\n",
       "      <td>652.000000</td>\n",
       "      <td>37.000000</td>\n",
       "      <td>5.000000</td>\n",
       "      <td>97198.540000</td>\n",
       "      <td>1.000000</td>\n",
       "      <td>1.00000</td>\n",
       "      <td>1.000000</td>\n",
       "      <td>100193.915000</td>\n",
       "      <td>0.000000</td>\n",
       "    </tr>\n",
       "    <tr>\n",
       "      <th>75%</th>\n",
       "      <td>7500.25000</td>\n",
       "      <td>1.575323e+07</td>\n",
       "      <td>718.000000</td>\n",
       "      <td>44.000000</td>\n",
       "      <td>7.000000</td>\n",
       "      <td>127644.240000</td>\n",
       "      <td>2.000000</td>\n",
       "      <td>1.00000</td>\n",
       "      <td>1.000000</td>\n",
       "      <td>149388.247500</td>\n",
       "      <td>0.000000</td>\n",
       "    </tr>\n",
       "    <tr>\n",
       "      <th>max</th>\n",
       "      <td>10000.00000</td>\n",
       "      <td>1.581569e+07</td>\n",
       "      <td>850.000000</td>\n",
       "      <td>92.000000</td>\n",
       "      <td>10.000000</td>\n",
       "      <td>250898.090000</td>\n",
       "      <td>4.000000</td>\n",
       "      <td>1.00000</td>\n",
       "      <td>1.000000</td>\n",
       "      <td>199992.480000</td>\n",
       "      <td>1.000000</td>\n",
       "    </tr>\n",
       "  </tbody>\n",
       "</table>\n",
       "</div>"
      ],
      "text/plain": [
       "         RowNumber    CustomerId   CreditScore           Age       Tenure  \\\n",
       "count  10000.00000  1.000000e+04  10000.000000  10000.000000  9091.000000   \n",
       "mean    5000.50000  1.569094e+07    650.528800     38.921800     4.997690   \n",
       "std     2886.89568  7.193619e+04     96.653299     10.487806     2.894723   \n",
       "min        1.00000  1.556570e+07    350.000000     18.000000     0.000000   \n",
       "25%     2500.75000  1.562853e+07    584.000000     32.000000     2.000000   \n",
       "50%     5000.50000  1.569074e+07    652.000000     37.000000     5.000000   \n",
       "75%     7500.25000  1.575323e+07    718.000000     44.000000     7.000000   \n",
       "max    10000.00000  1.581569e+07    850.000000     92.000000    10.000000   \n",
       "\n",
       "             Balance  NumOfProducts    HasCrCard  IsActiveMember  \\\n",
       "count   10000.000000   10000.000000  10000.00000    10000.000000   \n",
       "mean    76485.889288       1.530200      0.70550        0.515100   \n",
       "std     62397.405202       0.581654      0.45584        0.499797   \n",
       "min         0.000000       1.000000      0.00000        0.000000   \n",
       "25%         0.000000       1.000000      0.00000        0.000000   \n",
       "50%     97198.540000       1.000000      1.00000        1.000000   \n",
       "75%    127644.240000       2.000000      1.00000        1.000000   \n",
       "max    250898.090000       4.000000      1.00000        1.000000   \n",
       "\n",
       "       EstimatedSalary        Exited  \n",
       "count     10000.000000  10000.000000  \n",
       "mean     100090.239881      0.203700  \n",
       "std       57510.492818      0.402769  \n",
       "min          11.580000      0.000000  \n",
       "25%       51002.110000      0.000000  \n",
       "50%      100193.915000      0.000000  \n",
       "75%      149388.247500      0.000000  \n",
       "max      199992.480000      1.000000  "
      ]
     },
     "execution_count": 7,
     "metadata": {},
     "output_type": "execute_result"
    }
   ],
   "source": [
    "df.describe()"
   ]
  },
  {
   "cell_type": "code",
   "execution_count": 8,
   "metadata": {
    "colab": {
     "base_uri": "https://localhost:8080/"
    },
    "id": "8FS5vmYzHrTL",
    "outputId": "2c28e6cc-31f7-4b91-b3af-4afb90bb2c5c"
   },
   "outputs": [
    {
     "name": "stdout",
     "output_type": "stream",
     "text": [
      "<class 'pandas.core.frame.DataFrame'>\n",
      "RangeIndex: 10000 entries, 0 to 9999\n",
      "Data columns (total 14 columns):\n",
      " #   Column           Non-Null Count  Dtype  \n",
      "---  ------           --------------  -----  \n",
      " 0   RowNumber        10000 non-null  int64  \n",
      " 1   CustomerId       10000 non-null  int64  \n",
      " 2   Surname          10000 non-null  object \n",
      " 3   CreditScore      10000 non-null  int64  \n",
      " 4   Geography        10000 non-null  object \n",
      " 5   Gender           10000 non-null  object \n",
      " 6   Age              10000 non-null  int64  \n",
      " 7   Tenure           9091 non-null   float64\n",
      " 8   Balance          10000 non-null  float64\n",
      " 9   NumOfProducts    10000 non-null  int64  \n",
      " 10  HasCrCard        10000 non-null  int64  \n",
      " 11  IsActiveMember   10000 non-null  int64  \n",
      " 12  EstimatedSalary  10000 non-null  float64\n",
      " 13  Exited           10000 non-null  int64  \n",
      "dtypes: float64(3), int64(8), object(3)\n",
      "memory usage: 1.1+ MB\n"
     ]
    }
   ],
   "source": [
    "df.info()"
   ]
  },
  {
   "cell_type": "markdown",
   "metadata": {
    "id": "c7jbdeNnHrTM"
   },
   "source": [
    "Столбцы `RowNumber, CustomerId, Surname` не нужны нам для обучения моделей, поэтому удалим их."
   ]
  },
  {
   "cell_type": "code",
   "execution_count": 9,
   "metadata": {
    "id": "mN2ik2LrHrTM"
   },
   "outputs": [],
   "source": [
    "df.drop(['RowNumber', 'CustomerId', 'Surname'], axis=1, inplace=True)"
   ]
  },
  {
   "cell_type": "markdown",
   "metadata": {
    "id": "YmGl7B0HHrTN"
   },
   "source": [
    "В нашем распоряжении 10000 объектов и 13 признаков, из которых один целевой(**Exited**). Пропуски есть только в столбце `Tenure`(около 10% от исходных), исследуем его. Сгруппируем данные относительно пропусков в `Tenure`."
   ]
  },
  {
   "cell_type": "code",
   "execution_count": 24,
   "metadata": {},
   "outputs": [
    {
     "data": {
      "image/png": "[encoded data removed]",
      "text/plain": [
       "<Figure size 1620x1620 with 54 Axes>"
      ]
     },
     "metadata": {
      "needs_background": "light"
     },
     "output_type": "display_data"
    }
   ],
   "source": [
    "sns.pairplot(df, corner=True);"
   ]
  },
  {
   "cell_type": "code",
   "execution_count": 10,
   "metadata": {
    "colab": {
     "base_uri": "https://localhost:8080/",
     "height": 143
    },
    "id": "UM4y4BThHrTN",
    "outputId": "5afd7326-19f1-441d-ac3e-7880815ca143"
   },
   "outputs": [
    {
     "data": {
      "text/html": [
       "<div>\n",
       "<style scoped>\n",
       "    .dataframe tbody tr th:only-of-type {\n",
       "        vertical-align: middle;\n",
       "    }\n",
       "\n",
       "    .dataframe tbody tr th {\n",
       "        vertical-align: top;\n",
       "    }\n",
       "\n",
       "    .dataframe thead th {\n",
       "        text-align: right;\n",
       "    }\n",
       "</style>\n",
       "<table border=\"1\" class=\"dataframe\">\n",
       "  <thead>\n",
       "    <tr style=\"text-align: right;\">\n",
       "      <th></th>\n",
       "      <th>CreditScore</th>\n",
       "      <th>Age</th>\n",
       "      <th>Tenure</th>\n",
       "      <th>Balance</th>\n",
       "      <th>NumOfProducts</th>\n",
       "      <th>HasCrCard</th>\n",
       "      <th>IsActiveMember</th>\n",
       "      <th>EstimatedSalary</th>\n",
       "      <th>Exited</th>\n",
       "    </tr>\n",
       "    <tr>\n",
       "      <th>Tenure</th>\n",
       "      <th></th>\n",
       "      <th></th>\n",
       "      <th></th>\n",
       "      <th></th>\n",
       "      <th></th>\n",
       "      <th></th>\n",
       "      <th></th>\n",
       "      <th></th>\n",
       "      <th></th>\n",
       "    </tr>\n",
       "  </thead>\n",
       "  <tbody>\n",
       "    <tr>\n",
       "      <th>False</th>\n",
       "      <td>650.736553</td>\n",
       "      <td>38.949181</td>\n",
       "      <td>4.99769</td>\n",
       "      <td>76522.740015</td>\n",
       "      <td>1.530195</td>\n",
       "      <td>0.704983</td>\n",
       "      <td>0.515565</td>\n",
       "      <td>100181.214924</td>\n",
       "      <td>0.203938</td>\n",
       "    </tr>\n",
       "    <tr>\n",
       "      <th>True</th>\n",
       "      <td>648.451045</td>\n",
       "      <td>38.647965</td>\n",
       "      <td>NaN</td>\n",
       "      <td>76117.341474</td>\n",
       "      <td>1.530253</td>\n",
       "      <td>0.710671</td>\n",
       "      <td>0.510451</td>\n",
       "      <td>99180.389373</td>\n",
       "      <td>0.201320</td>\n",
       "    </tr>\n",
       "  </tbody>\n",
       "</table>\n",
       "</div>"
      ],
      "text/plain": [
       "        CreditScore        Age   Tenure       Balance  NumOfProducts  \\\n",
       "Tenure                                                                 \n",
       "False    650.736553  38.949181  4.99769  76522.740015       1.530195   \n",
       "True     648.451045  38.647965      NaN  76117.341474       1.530253   \n",
       "\n",
       "        HasCrCard  IsActiveMember  EstimatedSalary    Exited  \n",
       "Tenure                                                        \n",
       "False    0.704983        0.515565    100181.214924  0.203938  \n",
       "True     0.710671        0.510451     99180.389373  0.201320  "
      ]
     },
     "execution_count": 10,
     "metadata": {},
     "output_type": "execute_result"
    }
   ],
   "source": [
    "df.groupby(df['Tenure'].isna()).agg('mean')"
   ]
  },
  {
   "cell_type": "markdown",
   "metadata": {
    "id": "svutbYBmHrTO"
   },
   "source": [
    "Каких-то явных закономерностей нет, попробуем рассмотреть датафрейм только с пропусками в `Tenure`."
   ]
  },
  {
   "cell_type": "code",
   "execution_count": 11,
   "metadata": {
    "id": "w1VC8MMrHrTO"
   },
   "outputs": [],
   "source": [
    "df_to_ex_na = df.loc[df['Tenure'].isna()]"
   ]
  },
  {
   "cell_type": "code",
   "execution_count": 12,
   "metadata": {
    "colab": {
     "base_uri": "https://localhost:8080/",
     "height": 175
    },
    "id": "ychGEAnHHrTO",
    "outputId": "6282385b-20a8-4b3e-cedd-bc62ef4b6206",
    "scrolled": true
   },
   "outputs": [
    {
     "data": {
      "text/html": [
       "<div>\n",
       "<style scoped>\n",
       "    .dataframe tbody tr th:only-of-type {\n",
       "        vertical-align: middle;\n",
       "    }\n",
       "\n",
       "    .dataframe tbody tr th {\n",
       "        vertical-align: top;\n",
       "    }\n",
       "\n",
       "    .dataframe thead th {\n",
       "        text-align: right;\n",
       "    }\n",
       "</style>\n",
       "<table border=\"1\" class=\"dataframe\">\n",
       "  <thead>\n",
       "    <tr style=\"text-align: right;\">\n",
       "      <th></th>\n",
       "      <th>CreditScore</th>\n",
       "      <th>Age</th>\n",
       "      <th>Tenure</th>\n",
       "      <th>Balance</th>\n",
       "      <th>NumOfProducts</th>\n",
       "      <th>HasCrCard</th>\n",
       "      <th>IsActiveMember</th>\n",
       "      <th>EstimatedSalary</th>\n",
       "      <th>Exited</th>\n",
       "    </tr>\n",
       "    <tr>\n",
       "      <th>Geography</th>\n",
       "      <th></th>\n",
       "      <th></th>\n",
       "      <th></th>\n",
       "      <th></th>\n",
       "      <th></th>\n",
       "      <th></th>\n",
       "      <th></th>\n",
       "      <th></th>\n",
       "      <th></th>\n",
       "    </tr>\n",
       "  </thead>\n",
       "  <tbody>\n",
       "    <tr>\n",
       "      <th>France</th>\n",
       "      <td>640.950431</td>\n",
       "      <td>38.125000</td>\n",
       "      <td>NaN</td>\n",
       "      <td>61454.754720</td>\n",
       "      <td>1.549569</td>\n",
       "      <td>0.689655</td>\n",
       "      <td>0.519397</td>\n",
       "      <td>97440.155366</td>\n",
       "      <td>0.165948</td>\n",
       "    </tr>\n",
       "    <tr>\n",
       "      <th>Germany</th>\n",
       "      <td>658.310185</td>\n",
       "      <td>39.041667</td>\n",
       "      <td>NaN</td>\n",
       "      <td>120781.559444</td>\n",
       "      <td>1.509259</td>\n",
       "      <td>0.731481</td>\n",
       "      <td>0.458333</td>\n",
       "      <td>98843.680463</td>\n",
       "      <td>0.291667</td>\n",
       "    </tr>\n",
       "    <tr>\n",
       "      <th>Spain</th>\n",
       "      <td>654.349345</td>\n",
       "      <td>39.336245</td>\n",
       "      <td>NaN</td>\n",
       "      <td>63697.992882</td>\n",
       "      <td>1.510917</td>\n",
       "      <td>0.733624</td>\n",
       "      <td>0.541485</td>\n",
       "      <td>103024.047467</td>\n",
       "      <td>0.187773</td>\n",
       "    </tr>\n",
       "  </tbody>\n",
       "</table>\n",
       "</div>"
      ],
      "text/plain": [
       "           CreditScore        Age  Tenure        Balance  NumOfProducts  \\\n",
       "Geography                                                                 \n",
       "France      640.950431  38.125000     NaN   61454.754720       1.549569   \n",
       "Germany     658.310185  39.041667     NaN  120781.559444       1.509259   \n",
       "Spain       654.349345  39.336245     NaN   63697.992882       1.510917   \n",
       "\n",
       "           HasCrCard  IsActiveMember  EstimatedSalary    Exited  \n",
       "Geography                                                        \n",
       "France      0.689655        0.519397     97440.155366  0.165948  \n",
       "Germany     0.731481        0.458333     98843.680463  0.291667  \n",
       "Spain       0.733624        0.541485    103024.047467  0.187773  "
      ]
     },
     "execution_count": 12,
     "metadata": {},
     "output_type": "execute_result"
    }
   ],
   "source": [
    "df_to_ex_na.groupby(df_to_ex_na['Geography']).agg('mean')"
   ]
  },
  {
   "cell_type": "code",
   "execution_count": 13,
   "metadata": {
    "colab": {
     "base_uri": "https://localhost:8080/",
     "height": 143
    },
    "id": "5hPZy19eHrTP",
    "outputId": "134528f9-f8fd-4a9d-f691-9a98f3e87303",
    "scrolled": true
   },
   "outputs": [
    {
     "data": {
      "text/html": [
       "<div>\n",
       "<style scoped>\n",
       "    .dataframe tbody tr th:only-of-type {\n",
       "        vertical-align: middle;\n",
       "    }\n",
       "\n",
       "    .dataframe tbody tr th {\n",
       "        vertical-align: top;\n",
       "    }\n",
       "\n",
       "    .dataframe thead th {\n",
       "        text-align: right;\n",
       "    }\n",
       "</style>\n",
       "<table border=\"1\" class=\"dataframe\">\n",
       "  <thead>\n",
       "    <tr style=\"text-align: right;\">\n",
       "      <th></th>\n",
       "      <th>CreditScore</th>\n",
       "      <th>Age</th>\n",
       "      <th>Tenure</th>\n",
       "      <th>Balance</th>\n",
       "      <th>NumOfProducts</th>\n",
       "      <th>HasCrCard</th>\n",
       "      <th>EstimatedSalary</th>\n",
       "      <th>Exited</th>\n",
       "    </tr>\n",
       "    <tr>\n",
       "      <th>IsActiveMember</th>\n",
       "      <th></th>\n",
       "      <th></th>\n",
       "      <th></th>\n",
       "      <th></th>\n",
       "      <th></th>\n",
       "      <th></th>\n",
       "      <th></th>\n",
       "      <th></th>\n",
       "    </tr>\n",
       "  </thead>\n",
       "  <tbody>\n",
       "    <tr>\n",
       "      <th>0</th>\n",
       "      <td>651.089888</td>\n",
       "      <td>37.449438</td>\n",
       "      <td>NaN</td>\n",
       "      <td>81097.295034</td>\n",
       "      <td>1.521348</td>\n",
       "      <td>0.730337</td>\n",
       "      <td>94771.931034</td>\n",
       "      <td>0.269663</td>\n",
       "    </tr>\n",
       "    <tr>\n",
       "      <th>1</th>\n",
       "      <td>645.920259</td>\n",
       "      <td>39.797414</td>\n",
       "      <td>NaN</td>\n",
       "      <td>71341.308427</td>\n",
       "      <td>1.538793</td>\n",
       "      <td>0.691810</td>\n",
       "      <td>103408.328944</td>\n",
       "      <td>0.135776</td>\n",
       "    </tr>\n",
       "  </tbody>\n",
       "</table>\n",
       "</div>"
      ],
      "text/plain": [
       "                CreditScore        Age  Tenure       Balance  NumOfProducts  \\\n",
       "IsActiveMember                                                                \n",
       "0                651.089888  37.449438     NaN  81097.295034       1.521348   \n",
       "1                645.920259  39.797414     NaN  71341.308427       1.538793   \n",
       "\n",
       "                HasCrCard  EstimatedSalary    Exited  \n",
       "IsActiveMember                                        \n",
       "0                0.730337     94771.931034  0.269663  \n",
       "1                0.691810    103408.328944  0.135776  "
      ]
     },
     "execution_count": 13,
     "metadata": {},
     "output_type": "execute_result"
    }
   ],
   "source": [
    "df_to_ex_na.groupby(df_to_ex_na['IsActiveMember']).agg('mean')"
   ]
  },
  {
   "cell_type": "code",
   "execution_count": 14,
   "metadata": {
    "colab": {
     "base_uri": "https://localhost:8080/",
     "height": 143
    },
    "id": "DpZ_lMKWHrTP",
    "outputId": "acd59600-4194-4420-ca23-e3836e457f10"
   },
   "outputs": [
    {
     "data": {
      "text/html": [
       "<div>\n",
       "<style scoped>\n",
       "    .dataframe tbody tr th:only-of-type {\n",
       "        vertical-align: middle;\n",
       "    }\n",
       "\n",
       "    .dataframe tbody tr th {\n",
       "        vertical-align: top;\n",
       "    }\n",
       "\n",
       "    .dataframe thead th {\n",
       "        text-align: right;\n",
       "    }\n",
       "</style>\n",
       "<table border=\"1\" class=\"dataframe\">\n",
       "  <thead>\n",
       "    <tr style=\"text-align: right;\">\n",
       "      <th></th>\n",
       "      <th>CreditScore</th>\n",
       "      <th>Age</th>\n",
       "      <th>Tenure</th>\n",
       "      <th>Balance</th>\n",
       "      <th>NumOfProducts</th>\n",
       "      <th>HasCrCard</th>\n",
       "      <th>IsActiveMember</th>\n",
       "      <th>EstimatedSalary</th>\n",
       "    </tr>\n",
       "    <tr>\n",
       "      <th>Exited</th>\n",
       "      <th></th>\n",
       "      <th></th>\n",
       "      <th></th>\n",
       "      <th></th>\n",
       "      <th></th>\n",
       "      <th></th>\n",
       "      <th></th>\n",
       "      <th></th>\n",
       "    </tr>\n",
       "  </thead>\n",
       "  <tbody>\n",
       "    <tr>\n",
       "      <th>0</th>\n",
       "      <td>651.334711</td>\n",
       "      <td>37.121212</td>\n",
       "      <td>NaN</td>\n",
       "      <td>71951.095413</td>\n",
       "      <td>1.537190</td>\n",
       "      <td>0.716253</td>\n",
       "      <td>0.552342</td>\n",
       "      <td>99984.366446</td>\n",
       "    </tr>\n",
       "    <tr>\n",
       "      <th>1</th>\n",
       "      <td>637.010929</td>\n",
       "      <td>44.704918</td>\n",
       "      <td>NaN</td>\n",
       "      <td>92645.727486</td>\n",
       "      <td>1.502732</td>\n",
       "      <td>0.688525</td>\n",
       "      <td>0.344262</td>\n",
       "      <td>95990.840984</td>\n",
       "    </tr>\n",
       "  </tbody>\n",
       "</table>\n",
       "</div>"
      ],
      "text/plain": [
       "        CreditScore        Age  Tenure       Balance  NumOfProducts  \\\n",
       "Exited                                                                \n",
       "0        651.334711  37.121212     NaN  71951.095413       1.537190   \n",
       "1        637.010929  44.704918     NaN  92645.727486       1.502732   \n",
       "\n",
       "        HasCrCard  IsActiveMember  EstimatedSalary  \n",
       "Exited                                              \n",
       "0        0.716253        0.552342     99984.366446  \n",
       "1        0.688525        0.344262     95990.840984  "
      ]
     },
     "execution_count": 14,
     "metadata": {},
     "output_type": "execute_result"
    }
   ],
   "source": [
    "df_to_ex_na.groupby(df_to_ex_na['Exited']).agg('mean')"
   ]
  },
  {
   "cell_type": "code",
   "execution_count": 15,
   "metadata": {
    "colab": {
     "base_uri": "https://localhost:8080/",
     "height": 143
    },
    "id": "GtXPZ4kMHrTQ",
    "outputId": "98603ba5-596a-47c1-c846-d1f4fe93210f"
   },
   "outputs": [
    {
     "data": {
      "text/html": [
       "<div>\n",
       "<style scoped>\n",
       "    .dataframe tbody tr th:only-of-type {\n",
       "        vertical-align: middle;\n",
       "    }\n",
       "\n",
       "    .dataframe tbody tr th {\n",
       "        vertical-align: top;\n",
       "    }\n",
       "\n",
       "    .dataframe thead th {\n",
       "        text-align: right;\n",
       "    }\n",
       "</style>\n",
       "<table border=\"1\" class=\"dataframe\">\n",
       "  <thead>\n",
       "    <tr style=\"text-align: right;\">\n",
       "      <th></th>\n",
       "      <th>CreditScore</th>\n",
       "      <th>Age</th>\n",
       "      <th>Tenure</th>\n",
       "      <th>Balance</th>\n",
       "      <th>NumOfProducts</th>\n",
       "      <th>IsActiveMember</th>\n",
       "      <th>EstimatedSalary</th>\n",
       "      <th>Exited</th>\n",
       "    </tr>\n",
       "    <tr>\n",
       "      <th>HasCrCard</th>\n",
       "      <th></th>\n",
       "      <th></th>\n",
       "      <th></th>\n",
       "      <th></th>\n",
       "      <th></th>\n",
       "      <th></th>\n",
       "      <th></th>\n",
       "      <th></th>\n",
       "    </tr>\n",
       "  </thead>\n",
       "  <tbody>\n",
       "    <tr>\n",
       "      <th>0</th>\n",
       "      <td>651.570342</td>\n",
       "      <td>38.422053</td>\n",
       "      <td>NaN</td>\n",
       "      <td>73456.211787</td>\n",
       "      <td>1.551331</td>\n",
       "      <td>0.543726</td>\n",
       "      <td>103489.070190</td>\n",
       "      <td>0.216730</td>\n",
       "    </tr>\n",
       "    <tr>\n",
       "      <th>1</th>\n",
       "      <td>647.181115</td>\n",
       "      <td>38.739938</td>\n",
       "      <td>NaN</td>\n",
       "      <td>77200.742570</td>\n",
       "      <td>1.521672</td>\n",
       "      <td>0.496904</td>\n",
       "      <td>97426.236037</td>\n",
       "      <td>0.195046</td>\n",
       "    </tr>\n",
       "  </tbody>\n",
       "</table>\n",
       "</div>"
      ],
      "text/plain": [
       "           CreditScore        Age  Tenure       Balance  NumOfProducts  \\\n",
       "HasCrCard                                                                \n",
       "0           651.570342  38.422053     NaN  73456.211787       1.551331   \n",
       "1           647.181115  38.739938     NaN  77200.742570       1.521672   \n",
       "\n",
       "           IsActiveMember  EstimatedSalary    Exited  \n",
       "HasCrCard                                             \n",
       "0                0.543726    103489.070190  0.216730  \n",
       "1                0.496904     97426.236037  0.195046  "
      ]
     },
     "execution_count": 15,
     "metadata": {},
     "output_type": "execute_result"
    }
   ],
   "source": [
    "df_to_ex_na.groupby(df_to_ex_na['HasCrCard']).agg('mean')"
   ]
  },
  {
   "cell_type": "markdown",
   "metadata": {
    "id": "IeCuG624HrTQ"
   },
   "source": [
    "Каких-то правил для заполнения пропусков я не нашёл"
   ]
  },
  {
   "cell_type": "markdown",
   "metadata": {
    "id": "97m-3scYHrTR"
   },
   "source": [
    "Посмотрим распределение и уникальные значения`Tenure`."
   ]
  },
  {
   "cell_type": "code",
   "execution_count": 16,
   "metadata": {
    "colab": {
     "base_uri": "https://localhost:8080/",
     "height": 483
    },
    "id": "G_MnThqhHrTR",
    "outputId": "617db4d3-823c-4b7b-8808-a7b5f4fbebbf"
   },
   "outputs": [
    {
     "data": {
      "image/png": "[encoded data removed]",
      "text/plain": [
       "<Figure size 864x576 with 1 Axes>"
      ]
     },
     "metadata": {
      "needs_background": "light"
     },
     "output_type": "display_data"
    }
   ],
   "source": [
    "df['Tenure'].hist(figsize=(12, 8));"
   ]
  },
  {
   "cell_type": "markdown",
   "metadata": {
    "id": "97lLthH1HrTS"
   },
   "source": [
    "распределение похоже на равномерное"
   ]
  },
  {
   "cell_type": "code",
   "execution_count": 17,
   "metadata": {
    "colab": {
     "base_uri": "https://localhost:8080/"
    },
    "id": "GNxY5k6NHrTS",
    "outputId": "88f57ea3-7a18-4d98-f5cb-e570eacf5981"
   },
   "outputs": [
    {
     "data": {
      "text/plain": [
       "[0.0, 1.0, 2.0, 3.0, 4.0, 5.0, 6.0, 7.0, 8.0, 9.0, 10.0, nan]"
      ]
     },
     "execution_count": 17,
     "metadata": {},
     "output_type": "execute_result"
    }
   ],
   "source": [
    "sorted(df['Tenure'].unique())"
   ]
  },
  {
   "cell_type": "markdown",
   "metadata": {
    "id": "VqivDZz3HrTS"
   },
   "source": [
    "В уникальных значених присутствуют только целые числа"
   ]
  },
  {
   "cell_type": "markdown",
   "metadata": {
    "id": "e-Guot0GHrTT"
   },
   "source": [
    "посмотрим зависит ли медиана столбца от географического положения, наличия кредитной карты или активности"
   ]
  },
  {
   "cell_type": "code",
   "execution_count": 18,
   "metadata": {
    "colab": {
     "base_uri": "https://localhost:8080/"
    },
    "id": "gptj1y_tHrTT",
    "outputId": "df2258b0-0b27-4eff-ad43-5e3d5fe6cc5d"
   },
   "outputs": [
    {
     "name": "stdout",
     "output_type": "stream",
     "text": [
      "Germany: 5.0\n",
      "Spain: 5.0\n",
      "France: 5.0\n",
      "общая: 5.0\n"
     ]
    }
   ],
   "source": [
    "print('Germany:', df.loc[df['Geography'] == 'Germany', 'Tenure'].median())\n",
    "print('Spain:', df.loc[df['Geography'] == 'Spain', 'Tenure'].median())\n",
    "print('France:', df.loc[df['Geography'] == 'France', 'Tenure'].median())\n",
    "print('общая:', df['Tenure'].median())"
   ]
  },
  {
   "cell_type": "code",
   "execution_count": 19,
   "metadata": {
    "colab": {
     "base_uri": "https://localhost:8080/"
    },
    "id": "5aIA23XZHrTU",
    "outputId": "50e4c6c3-44d2-47b1-e0b3-779cf46d6c6d"
   },
   "outputs": [
    {
     "name": "stdout",
     "output_type": "stream",
     "text": [
      "HasCrCard(yes): 5.0\n",
      "HasCrCard(no): 5.0\n",
      "общая: 5.0\n"
     ]
    }
   ],
   "source": [
    "print('HasCrCard(yes):', df.loc[df['HasCrCard'] == 1, 'Tenure'].median())\n",
    "print('HasCrCard(no):', df.loc[df['HasCrCard'] == 0, 'Tenure'].median())\n",
    "print('общая:', df['Tenure'].median())"
   ]
  },
  {
   "cell_type": "code",
   "execution_count": 20,
   "metadata": {
    "colab": {
     "base_uri": "https://localhost:8080/"
    },
    "id": "5EIGcE_WHrTU",
    "outputId": "5c615beb-a222-4f22-ac58-c1bea3ce5ed0"
   },
   "outputs": [
    {
     "name": "stdout",
     "output_type": "stream",
     "text": [
      "IsActiveMember(yes): 5.0\n",
      "IsActiveMember(no): 5.0\n",
      "общая: 5.0\n"
     ]
    }
   ],
   "source": [
    "print('IsActiveMember(yes):', df.loc[df['IsActiveMember'] == 1, 'Tenure'].median())\n",
    "print('IsActiveMember(no):', df.loc[df['IsActiveMember'] == 0, 'Tenure'].median())\n",
    "print('общая:', df['Tenure'].median())"
   ]
  },
  {
   "cell_type": "code",
   "execution_count": 21,
   "metadata": {
    "colab": {
     "base_uri": "https://localhost:8080/"
    },
    "id": "PpqlzzuVHrTV",
    "outputId": "9ee48dd4-4628-40f7-800d-42fb8d569eb3"
   },
   "outputs": [
    {
     "data": {
      "text/plain": [
       "9.09"
      ]
     },
     "execution_count": 21,
     "metadata": {},
     "output_type": "execute_result"
    }
   ],
   "source": [
    "(df.loc[df['Tenure'].isna(), 'Tenure'].shape[0] / df.shape[0]) * 100"
   ]
  },
  {
   "cell_type": "markdown",
   "metadata": {
    "id": "jO76sN3pHrTV"
   },
   "source": [
    "как видно медиана не зависит от этих групп, значит при заполнении пропусков они все примут вид 5, это сильно исказит данные, но не сильнее чем удаление их, т.к. пропусков примерно 9%. Значит, заполним медианой. В предыдуших строчках кода мы заметили что уникальных значений немного и они все целочисленные, значит изменим тип столбца `Tenure` на **uint8**, т.к. максимальное уникальное значение не превышает максимальное пороговое значение диапазона **uint8**."
   ]
  },
  {
   "cell_type": "code",
   "execution_count": 22,
   "metadata": {
    "id": "C3kyHMXMHrTW"
   },
   "outputs": [],
   "source": [
    "df['Tenure'].fillna(5, inplace=True)\n",
    "df['Tenure'] = df['Tenure'].astype('uint8')"
   ]
  },
  {
   "cell_type": "code",
   "execution_count": 23,
   "metadata": {
    "colab": {
     "base_uri": "https://localhost:8080/"
    },
    "id": "2CtZBx5nHrTW",
    "outputId": "41f14dab-135c-474e-8ea7-ee82f2ae493e"
   },
   "outputs": [
    {
     "name": "stdout",
     "output_type": "stream",
     "text": [
      "<class 'pandas.core.frame.DataFrame'>\n",
      "RangeIndex: 10000 entries, 0 to 9999\n",
      "Data columns (total 11 columns):\n",
      " #   Column           Non-Null Count  Dtype  \n",
      "---  ------           --------------  -----  \n",
      " 0   CreditScore      10000 non-null  int64  \n",
      " 1   Geography        10000 non-null  object \n",
      " 2   Gender           10000 non-null  object \n",
      " 3   Age              10000 non-null  int64  \n",
      " 4   Tenure           10000 non-null  uint8  \n",
      " 5   Balance          10000 non-null  float64\n",
      " 6   NumOfProducts    10000 non-null  int64  \n",
      " 7   HasCrCard        10000 non-null  int64  \n",
      " 8   IsActiveMember   10000 non-null  int64  \n",
      " 9   EstimatedSalary  10000 non-null  float64\n",
      " 10  Exited           10000 non-null  int64  \n",
      "dtypes: float64(2), int64(6), object(2), uint8(1)\n",
      "memory usage: 791.1+ KB\n"
     ]
    }
   ],
   "source": [
    "df.info()"
   ]
  },
  {
   "cell_type": "markdown",
   "metadata": {
    "id": "DhAtDfKcHrTW"
   },
   "source": [
    "Изменим тип `Age`."
   ]
  },
  {
   "cell_type": "code",
   "execution_count": 25,
   "metadata": {
    "id": "uRMJKgxEHrTY"
   },
   "outputs": [],
   "source": [
    "df['Age'] = df['Age'].astype('uint8')"
   ]
  },
  {
   "cell_type": "code",
   "execution_count": 26,
   "metadata": {
    "colab": {
     "base_uri": "https://localhost:8080/"
    },
    "id": "RDC0GIWXHrTZ",
    "outputId": "65f5d494-9d24-4032-fa79-5c8de980fa62"
   },
   "outputs": [
    {
     "name": "stdout",
     "output_type": "stream",
     "text": [
      "<class 'pandas.core.frame.DataFrame'>\n",
      "RangeIndex: 10000 entries, 0 to 9999\n",
      "Data columns (total 11 columns):\n",
      " #   Column           Non-Null Count  Dtype  \n",
      "---  ------           --------------  -----  \n",
      " 0   CreditScore      10000 non-null  int64  \n",
      " 1   Geography        10000 non-null  object \n",
      " 2   Gender           10000 non-null  object \n",
      " 3   Age              10000 non-null  uint8  \n",
      " 4   Tenure           10000 non-null  uint8  \n",
      " 5   Balance          10000 non-null  float64\n",
      " 6   NumOfProducts    10000 non-null  int64  \n",
      " 7   HasCrCard        10000 non-null  int64  \n",
      " 8   IsActiveMember   10000 non-null  int64  \n",
      " 9   EstimatedSalary  10000 non-null  float64\n",
      " 10  Exited           10000 non-null  int64  \n",
      "dtypes: float64(2), int64(5), object(2), uint8(2)\n",
      "memory usage: 722.8+ KB\n"
     ]
    }
   ],
   "source": [
    "df.info()"
   ]
  },
  {
   "cell_type": "markdown",
   "metadata": {
    "id": "4xqwL1UZHrTZ"
   },
   "source": [
    "Изменим столбец `Gender` на `Is_male` со значениями **1** если пол мужской и **0** если женский"
   ]
  },
  {
   "cell_type": "code",
   "execution_count": 27,
   "metadata": {
    "colab": {
     "base_uri": "https://localhost:8080/",
     "height": 206
    },
    "id": "sWVQwWDkHrTa",
    "outputId": "3bbad333-0456-4bb6-ed37-5f4a6c521c23"
   },
   "outputs": [
    {
     "data": {
      "text/html": [
       "<div>\n",
       "<style scoped>\n",
       "    .dataframe tbody tr th:only-of-type {\n",
       "        vertical-align: middle;\n",
       "    }\n",
       "\n",
       "    .dataframe tbody tr th {\n",
       "        vertical-align: top;\n",
       "    }\n",
       "\n",
       "    .dataframe thead th {\n",
       "        text-align: right;\n",
       "    }\n",
       "</style>\n",
       "<table border=\"1\" class=\"dataframe\">\n",
       "  <thead>\n",
       "    <tr style=\"text-align: right;\">\n",
       "      <th></th>\n",
       "      <th>CreditScore</th>\n",
       "      <th>Geography</th>\n",
       "      <th>Age</th>\n",
       "      <th>Tenure</th>\n",
       "      <th>Balance</th>\n",
       "      <th>NumOfProducts</th>\n",
       "      <th>HasCrCard</th>\n",
       "      <th>IsActiveMember</th>\n",
       "      <th>EstimatedSalary</th>\n",
       "      <th>Exited</th>\n",
       "      <th>Is_male</th>\n",
       "    </tr>\n",
       "  </thead>\n",
       "  <tbody>\n",
       "    <tr>\n",
       "      <th>0</th>\n",
       "      <td>619</td>\n",
       "      <td>France</td>\n",
       "      <td>42</td>\n",
       "      <td>2</td>\n",
       "      <td>0.00</td>\n",
       "      <td>1</td>\n",
       "      <td>1</td>\n",
       "      <td>1</td>\n",
       "      <td>101348.88</td>\n",
       "      <td>1</td>\n",
       "      <td>0</td>\n",
       "    </tr>\n",
       "    <tr>\n",
       "      <th>1</th>\n",
       "      <td>608</td>\n",
       "      <td>Spain</td>\n",
       "      <td>41</td>\n",
       "      <td>1</td>\n",
       "      <td>83807.86</td>\n",
       "      <td>1</td>\n",
       "      <td>0</td>\n",
       "      <td>1</td>\n",
       "      <td>112542.58</td>\n",
       "      <td>0</td>\n",
       "      <td>0</td>\n",
       "    </tr>\n",
       "    <tr>\n",
       "      <th>2</th>\n",
       "      <td>502</td>\n",
       "      <td>France</td>\n",
       "      <td>42</td>\n",
       "      <td>8</td>\n",
       "      <td>159660.80</td>\n",
       "      <td>3</td>\n",
       "      <td>1</td>\n",
       "      <td>0</td>\n",
       "      <td>113931.57</td>\n",
       "      <td>1</td>\n",
       "      <td>0</td>\n",
       "    </tr>\n",
       "    <tr>\n",
       "      <th>3</th>\n",
       "      <td>699</td>\n",
       "      <td>France</td>\n",
       "      <td>39</td>\n",
       "      <td>1</td>\n",
       "      <td>0.00</td>\n",
       "      <td>2</td>\n",
       "      <td>0</td>\n",
       "      <td>0</td>\n",
       "      <td>93826.63</td>\n",
       "      <td>0</td>\n",
       "      <td>0</td>\n",
       "    </tr>\n",
       "    <tr>\n",
       "      <th>4</th>\n",
       "      <td>850</td>\n",
       "      <td>Spain</td>\n",
       "      <td>43</td>\n",
       "      <td>2</td>\n",
       "      <td>125510.82</td>\n",
       "      <td>1</td>\n",
       "      <td>1</td>\n",
       "      <td>1</td>\n",
       "      <td>79084.10</td>\n",
       "      <td>0</td>\n",
       "      <td>0</td>\n",
       "    </tr>\n",
       "  </tbody>\n",
       "</table>\n",
       "</div>"
      ],
      "text/plain": [
       "   CreditScore Geography  Age  Tenure    Balance  NumOfProducts  HasCrCard  \\\n",
       "0          619    France   42       2       0.00              1          1   \n",
       "1          608     Spain   41       1   83807.86              1          0   \n",
       "2          502    France   42       8  159660.80              3          1   \n",
       "3          699    France   39       1       0.00              2          0   \n",
       "4          850     Spain   43       2  125510.82              1          1   \n",
       "\n",
       "   IsActiveMember  EstimatedSalary  Exited  Is_male  \n",
       "0               1        101348.88       1        0  \n",
       "1               1        112542.58       0        0  \n",
       "2               0        113931.57       1        0  \n",
       "3               0         93826.63       0        0  \n",
       "4               1         79084.10       0        0  "
      ]
     },
     "execution_count": 27,
     "metadata": {},
     "output_type": "execute_result"
    }
   ],
   "source": [
    "df['Is_male'] = (\n",
    "    df['Gender'].apply(lambda x: int(x == 'Male'))\n",
    "    .astype('uint8')\n",
    ")\n",
    "df.drop(['Gender'], axis=1, inplace=True)\n",
    "df.head()"
   ]
  },
  {
   "cell_type": "markdown",
   "metadata": {
    "id": "xl-D040THrTa"
   },
   "source": [
    "Также изменим тип таргета на uint8"
   ]
  },
  {
   "cell_type": "code",
   "execution_count": 28,
   "metadata": {
    "id": "U2Nu7IjSHrTb"
   },
   "outputs": [],
   "source": [
    "df['Exited'] = df['Exited'].astype('uint8')"
   ]
  },
  {
   "cell_type": "markdown",
   "metadata": {
    "id": "Vsbl3x95HrTb"
   },
   "source": [
    "Проверим сколько существет активных пользователей, которые ушли из банка"
   ]
  },
  {
   "cell_type": "code",
   "execution_count": 29,
   "metadata": {
    "colab": {
     "base_uri": "https://localhost:8080/"
    },
    "id": "ufBYHO3VHrTb",
    "outputId": "35d36f1a-7e5d-4be1-c599-2b5afa51e290"
   },
   "outputs": [
    {
     "data": {
      "text/plain": [
       "735"
      ]
     },
     "execution_count": 29,
     "metadata": {},
     "output_type": "execute_result"
    }
   ],
   "source": [
    "df.loc[(df['IsActiveMember'] == 1) & (df['Exited'] == 1), 'IsActiveMember'].shape[0]"
   ]
  },
  {
   "cell_type": "markdown",
   "metadata": {
    "id": "D90ERBf7HrTc"
   },
   "source": [
    "меньше 1 процента, попробуем изучить их подробнее"
   ]
  },
  {
   "cell_type": "code",
   "execution_count": 30,
   "metadata": {
    "colab": {
     "base_uri": "https://localhost:8080/",
     "height": 239
    },
    "id": "vm_V94NrHrTc",
    "outputId": "1c1d9e6a-98ba-417d-9433-3ca9880e706f",
    "scrolled": true
   },
   "outputs": [
    {
     "data": {
      "text/html": [
       "<div>\n",
       "<style scoped>\n",
       "    .dataframe tbody tr th:only-of-type {\n",
       "        vertical-align: middle;\n",
       "    }\n",
       "\n",
       "    .dataframe tbody tr th {\n",
       "        vertical-align: top;\n",
       "    }\n",
       "\n",
       "    .dataframe thead tr th {\n",
       "        text-align: left;\n",
       "    }\n",
       "\n",
       "    .dataframe thead tr:last-of-type th {\n",
       "        text-align: right;\n",
       "    }\n",
       "</style>\n",
       "<table border=\"1\" class=\"dataframe\">\n",
       "  <thead>\n",
       "    <tr>\n",
       "      <th></th>\n",
       "      <th colspan=\"2\" halign=\"left\">Age</th>\n",
       "      <th colspan=\"2\" halign=\"left\">Balance</th>\n",
       "      <th colspan=\"2\" halign=\"left\">CreditScore</th>\n",
       "      <th colspan=\"2\" halign=\"left\">EstimatedSalary</th>\n",
       "      <th colspan=\"2\" halign=\"left\">HasCrCard</th>\n",
       "      <th colspan=\"2\" halign=\"left\">Is_male</th>\n",
       "      <th colspan=\"2\" halign=\"left\">NumOfProducts</th>\n",
       "      <th colspan=\"2\" halign=\"left\">Tenure</th>\n",
       "    </tr>\n",
       "    <tr>\n",
       "      <th>IsActiveMember</th>\n",
       "      <th>0</th>\n",
       "      <th>1</th>\n",
       "      <th>0</th>\n",
       "      <th>1</th>\n",
       "      <th>0</th>\n",
       "      <th>1</th>\n",
       "      <th>0</th>\n",
       "      <th>1</th>\n",
       "      <th>0</th>\n",
       "      <th>1</th>\n",
       "      <th>0</th>\n",
       "      <th>1</th>\n",
       "      <th>0</th>\n",
       "      <th>1</th>\n",
       "      <th>0</th>\n",
       "      <th>1</th>\n",
       "    </tr>\n",
       "    <tr>\n",
       "      <th>Exited</th>\n",
       "      <th></th>\n",
       "      <th></th>\n",
       "      <th></th>\n",
       "      <th></th>\n",
       "      <th></th>\n",
       "      <th></th>\n",
       "      <th></th>\n",
       "      <th></th>\n",
       "      <th></th>\n",
       "      <th></th>\n",
       "      <th></th>\n",
       "      <th></th>\n",
       "      <th></th>\n",
       "      <th></th>\n",
       "      <th></th>\n",
       "      <th></th>\n",
       "    </tr>\n",
       "  </thead>\n",
       "  <tbody>\n",
       "    <tr>\n",
       "      <th>0</th>\n",
       "      <td>35.471666</td>\n",
       "      <td>38.963995</td>\n",
       "      <td>72048.820578</td>\n",
       "      <td>73304.717314</td>\n",
       "      <td>648.914576</td>\n",
       "      <td>654.213542</td>\n",
       "      <td>100342.625543</td>\n",
       "      <td>99253.061793</td>\n",
       "      <td>0.706513</td>\n",
       "      <td>0.707654</td>\n",
       "      <td>0.567522</td>\n",
       "      <td>0.576540</td>\n",
       "      <td>1.554835</td>\n",
       "      <td>1.535779</td>\n",
       "      <td>5.115873</td>\n",
       "      <td>4.943388</td>\n",
       "    </tr>\n",
       "    <tr>\n",
       "      <th>1</th>\n",
       "      <td>44.880184</td>\n",
       "      <td>44.763265</td>\n",
       "      <td>90988.807081</td>\n",
       "      <td>91320.636476</td>\n",
       "      <td>645.410138</td>\n",
       "      <td>645.247619</td>\n",
       "      <td>101923.869962</td>\n",
       "      <td>100654.022367</td>\n",
       "      <td>0.723502</td>\n",
       "      <td>0.655782</td>\n",
       "      <td>0.443164</td>\n",
       "      <td>0.436735</td>\n",
       "      <td>1.441628</td>\n",
       "      <td>1.534694</td>\n",
       "      <td>5.001536</td>\n",
       "      <td>4.749660</td>\n",
       "    </tr>\n",
       "  </tbody>\n",
       "</table>\n",
       "</div>"
      ],
      "text/plain": [
       "                      Age                  Balance               CreditScore  \\\n",
       "IsActiveMember          0          1             0             1           0   \n",
       "Exited                                                                         \n",
       "0               35.471666  38.963995  72048.820578  73304.717314  648.914576   \n",
       "1               44.880184  44.763265  90988.807081  91320.636476  645.410138   \n",
       "\n",
       "                           EstimatedSalary                HasCrCard            \\\n",
       "IsActiveMember           1               0              1         0         1   \n",
       "Exited                                                                          \n",
       "0               654.213542   100342.625543   99253.061793  0.706513  0.707654   \n",
       "1               645.247619   101923.869962  100654.022367  0.723502  0.655782   \n",
       "\n",
       "                 Is_male           NumOfProducts              Tenure            \n",
       "IsActiveMember         0         1             0         1         0         1  \n",
       "Exited                                                                          \n",
       "0               0.567522  0.576540      1.554835  1.535779  5.115873  4.943388  \n",
       "1               0.443164  0.436735      1.441628  1.534694  5.001536  4.749660  "
      ]
     },
     "execution_count": 30,
     "metadata": {},
     "output_type": "execute_result"
    }
   ],
   "source": [
    "df.pivot_table(index='Exited', columns='IsActiveMember', aggfunc='mean')"
   ]
  },
  {
   "cell_type": "markdown",
   "metadata": {
    "id": "Mu_rVovTHrTe"
   },
   "source": [
    "## Исследование задачи"
   ]
  },
  {
   "cell_type": "code",
   "execution_count": 31,
   "metadata": {
    "colab": {
     "base_uri": "https://localhost:8080/"
    },
    "id": "oQ8PlBDUHrTf",
    "outputId": "a8500ee4-0a46-413d-f561-949304fb367c"
   },
   "outputs": [
    {
     "data": {
      "text/plain": [
       "0    7963\n",
       "1    2037\n",
       "Name: Exited, dtype: int64"
      ]
     },
     "execution_count": 31,
     "metadata": {},
     "output_type": "execute_result"
    }
   ],
   "source": [
    "df['Exited'].value_counts()"
   ]
  },
  {
   "cell_type": "markdown",
   "metadata": {
    "id": "e_CYTCTaHrTf"
   },
   "source": [
    "В тагрете всего 2 уникальных значения, решаем задачу бинарной классификации. Заметен дизбаланс классов. Проверим на коллениарность фичи(не категориальные)."
   ]
  },
  {
   "cell_type": "code",
   "execution_count": 32,
   "metadata": {
    "colab": {
     "base_uri": "https://localhost:8080/",
     "height": 487
    },
    "id": "JCrDTaAUHrTg",
    "outputId": "ab9a29d4-c371-4810-a827-121f744436ae"
   },
   "outputs": [
    {
     "data": {
      "image/png": "[encoded data removed]",
      "text/plain": [
       "<Figure size 864x576 with 2 Axes>"
      ]
     },
     "metadata": {
      "needs_background": "light"
     },
     "output_type": "display_data"
    }
   ],
   "source": [
    "not_cat_col = ['Balance', 'EstimatedSalary', 'CreditScore', 'Tenure', 'NumOfProducts', 'Age']\n",
    "plt.figure(figsize=(12, 8))\n",
    "sns.heatmap(df[not_cat_col + ['Exited']].corr(), annot=True);"
   ]
  },
  {
   "cell_type": "markdown",
   "metadata": {
    "id": "zNs4OPTgHrTg"
   },
   "source": [
    "Мультиколлениарности нет, разобьём данные на тренировочные валидационные и тестовые"
   ]
  },
  {
   "cell_type": "code",
   "execution_count": 33,
   "metadata": {
    "colab": {
     "base_uri": "https://localhost:8080/"
    },
    "id": "QUd4efL2HrTh",
    "outputId": "1dd77f20-20f0-41c4-ca74-c642d6ac1ccb"
   },
   "outputs": [
    {
     "name": "stdout",
     "output_type": "stream",
     "text": [
      "Train:\n",
      "X: (6000, 10) y: (6000,)\n",
      "\n",
      "Valid:\n",
      "X: (2000, 10) y: (2000,)\n",
      "\n",
      "Test:\n",
      "X: (2000, 10) y: (2000,)\n"
     ]
    }
   ],
   "source": [
    "x_train, y_train, x_valid, y_valid, x_test, y_test = train_valid_test_split(df, target='Exited',\n",
    "                                                                           train_size=0.6, valid_size=0.2, \n",
    "                                                                            test_size=0.2, random_state=SEED)\n",
    "\n",
    "print('Train:')\n",
    "print('X:', x_train.shape, 'y:', y_train.shape)\n",
    "print()\n",
    "print('Valid:')\n",
    "print('X:', x_valid.shape, 'y:', y_valid.shape)\n",
    "print()\n",
    "print('Test:')\n",
    "print('X:', x_test.shape, 'y:', y_test.shape)"
   ]
  },
  {
   "cell_type": "markdown",
   "metadata": {
    "id": "CpyXK7bLHrTi"
   },
   "source": [
    "Делаем нормализацию"
   ]
  },
  {
   "cell_type": "code",
   "execution_count": 34,
   "metadata": {
    "colab": {
     "base_uri": "https://localhost:8080/",
     "height": 847
    },
    "id": "xMBAW3GAHrTi",
    "outputId": "f4e11ee0-cfc9-4ec8-ad56-99fce7a00374"
   },
   "outputs": [
    {
     "data": {
      "text/html": [
       "<div>\n",
       "<style scoped>\n",
       "    .dataframe tbody tr th:only-of-type {\n",
       "        vertical-align: middle;\n",
       "    }\n",
       "\n",
       "    .dataframe tbody tr th {\n",
       "        vertical-align: top;\n",
       "    }\n",
       "\n",
       "    .dataframe thead th {\n",
       "        text-align: right;\n",
       "    }\n",
       "</style>\n",
       "<table border=\"1\" class=\"dataframe\">\n",
       "  <thead>\n",
       "    <tr style=\"text-align: right;\">\n",
       "      <th></th>\n",
       "      <th>Balance</th>\n",
       "      <th>EstimatedSalary</th>\n",
       "      <th>CreditScore</th>\n",
       "      <th>Tenure</th>\n",
       "      <th>NumOfProducts</th>\n",
       "      <th>Age</th>\n",
       "    </tr>\n",
       "  </thead>\n",
       "  <tbody>\n",
       "    <tr>\n",
       "      <th>8050</th>\n",
       "      <td>0.00</td>\n",
       "      <td>130866.95</td>\n",
       "      <td>707</td>\n",
       "      <td>2</td>\n",
       "      <td>2</td>\n",
       "      <td>33</td>\n",
       "    </tr>\n",
       "    <tr>\n",
       "      <th>1265</th>\n",
       "      <td>116973.26</td>\n",
       "      <td>122066.50</td>\n",
       "      <td>534</td>\n",
       "      <td>5</td>\n",
       "      <td>3</td>\n",
       "      <td>55</td>\n",
       "    </tr>\n",
       "    <tr>\n",
       "      <th>961</th>\n",
       "      <td>137948.51</td>\n",
       "      <td>113639.64</td>\n",
       "      <td>685</td>\n",
       "      <td>5</td>\n",
       "      <td>1</td>\n",
       "      <td>35</td>\n",
       "    </tr>\n",
       "    <tr>\n",
       "      <th>2510</th>\n",
       "      <td>79468.96</td>\n",
       "      <td>84606.03</td>\n",
       "      <td>625</td>\n",
       "      <td>2</td>\n",
       "      <td>1</td>\n",
       "      <td>52</td>\n",
       "    </tr>\n",
       "    <tr>\n",
       "      <th>8628</th>\n",
       "      <td>0.00</td>\n",
       "      <td>152884.85</td>\n",
       "      <td>704</td>\n",
       "      <td>3</td>\n",
       "      <td>2</td>\n",
       "      <td>44</td>\n",
       "    </tr>\n",
       "    <tr>\n",
       "      <th>...</th>\n",
       "      <td>...</td>\n",
       "      <td>...</td>\n",
       "      <td>...</td>\n",
       "      <td>...</td>\n",
       "      <td>...</td>\n",
       "      <td>...</td>\n",
       "    </tr>\n",
       "    <tr>\n",
       "      <th>919</th>\n",
       "      <td>0.00</td>\n",
       "      <td>26752.56</td>\n",
       "      <td>552</td>\n",
       "      <td>9</td>\n",
       "      <td>2</td>\n",
       "      <td>45</td>\n",
       "    </tr>\n",
       "    <tr>\n",
       "      <th>4307</th>\n",
       "      <td>190678.02</td>\n",
       "      <td>14725.36</td>\n",
       "      <td>770</td>\n",
       "      <td>9</td>\n",
       "      <td>1</td>\n",
       "      <td>46</td>\n",
       "    </tr>\n",
       "    <tr>\n",
       "      <th>5699</th>\n",
       "      <td>135871.50</td>\n",
       "      <td>87219.41</td>\n",
       "      <td>684</td>\n",
       "      <td>6</td>\n",
       "      <td>1</td>\n",
       "      <td>35</td>\n",
       "    </tr>\n",
       "    <tr>\n",
       "      <th>537</th>\n",
       "      <td>0.00</td>\n",
       "      <td>127569.80</td>\n",
       "      <td>686</td>\n",
       "      <td>9</td>\n",
       "      <td>2</td>\n",
       "      <td>34</td>\n",
       "    </tr>\n",
       "    <tr>\n",
       "      <th>9412</th>\n",
       "      <td>98684.15</td>\n",
       "      <td>133720.57</td>\n",
       "      <td>725</td>\n",
       "      <td>6</td>\n",
       "      <td>1</td>\n",
       "      <td>26</td>\n",
       "    </tr>\n",
       "  </tbody>\n",
       "</table>\n",
       "<p>6000 rows × 6 columns</p>\n",
       "</div>"
      ],
      "text/plain": [
       "        Balance  EstimatedSalary  CreditScore  Tenure  NumOfProducts  Age\n",
       "8050       0.00        130866.95          707       2              2   33\n",
       "1265  116973.26        122066.50          534       5              3   55\n",
       "961   137948.51        113639.64          685       5              1   35\n",
       "2510   79468.96         84606.03          625       2              1   52\n",
       "8628       0.00        152884.85          704       3              2   44\n",
       "...         ...              ...          ...     ...            ...  ...\n",
       "919        0.00         26752.56          552       9              2   45\n",
       "4307  190678.02         14725.36          770       9              1   46\n",
       "5699  135871.50         87219.41          684       6              1   35\n",
       "537        0.00        127569.80          686       9              2   34\n",
       "9412   98684.15        133720.57          725       6              1   26\n",
       "\n",
       "[6000 rows x 6 columns]"
      ]
     },
     "metadata": {},
     "output_type": "display_data"
    },
    {
     "name": "stdout",
     "output_type": "stream",
     "text": [
      "\n"
     ]
    },
    {
     "data": {
      "text/html": [
       "<div>\n",
       "<style scoped>\n",
       "    .dataframe tbody tr th:only-of-type {\n",
       "        vertical-align: middle;\n",
       "    }\n",
       "\n",
       "    .dataframe tbody tr th {\n",
       "        vertical-align: top;\n",
       "    }\n",
       "\n",
       "    .dataframe thead th {\n",
       "        text-align: right;\n",
       "    }\n",
       "</style>\n",
       "<table border=\"1\" class=\"dataframe\">\n",
       "  <thead>\n",
       "    <tr style=\"text-align: right;\">\n",
       "      <th></th>\n",
       "      <th>Balance</th>\n",
       "      <th>EstimatedSalary</th>\n",
       "      <th>CreditScore</th>\n",
       "      <th>Tenure</th>\n",
       "      <th>NumOfProducts</th>\n",
       "      <th>Age</th>\n",
       "    </tr>\n",
       "  </thead>\n",
       "  <tbody>\n",
       "    <tr>\n",
       "      <th>8050</th>\n",
       "      <td>-1.242622</td>\n",
       "      <td>0.532607</td>\n",
       "      <td>0.584215</td>\n",
       "      <td>-1.089514</td>\n",
       "      <td>0.802288</td>\n",
       "      <td>-0.562414</td>\n",
       "    </tr>\n",
       "    <tr>\n",
       "      <th>1265</th>\n",
       "      <td>0.633982</td>\n",
       "      <td>0.380518</td>\n",
       "      <td>-1.217221</td>\n",
       "      <td>-0.009659</td>\n",
       "      <td>2.502650</td>\n",
       "      <td>1.533243</td>\n",
       "    </tr>\n",
       "    <tr>\n",
       "      <th>961</th>\n",
       "      <td>0.970488</td>\n",
       "      <td>0.234886</td>\n",
       "      <td>0.355131</td>\n",
       "      <td>-0.009659</td>\n",
       "      <td>-0.898075</td>\n",
       "      <td>-0.371900</td>\n",
       "    </tr>\n",
       "    <tr>\n",
       "      <th>2510</th>\n",
       "      <td>0.032300</td>\n",
       "      <td>-0.266872</td>\n",
       "      <td>-0.269644</td>\n",
       "      <td>-1.089514</td>\n",
       "      <td>-0.898075</td>\n",
       "      <td>1.247471</td>\n",
       "    </tr>\n",
       "    <tr>\n",
       "      <th>8628</th>\n",
       "      <td>-1.242622</td>\n",
       "      <td>0.913119</td>\n",
       "      <td>0.552977</td>\n",
       "      <td>-0.729562</td>\n",
       "      <td>0.802288</td>\n",
       "      <td>0.485414</td>\n",
       "    </tr>\n",
       "    <tr>\n",
       "      <th>...</th>\n",
       "      <td>...</td>\n",
       "      <td>...</td>\n",
       "      <td>...</td>\n",
       "      <td>...</td>\n",
       "      <td>...</td>\n",
       "      <td>...</td>\n",
       "    </tr>\n",
       "    <tr>\n",
       "      <th>919</th>\n",
       "      <td>-1.242622</td>\n",
       "      <td>-1.266692</td>\n",
       "      <td>-1.029788</td>\n",
       "      <td>1.430149</td>\n",
       "      <td>0.802288</td>\n",
       "      <td>0.580671</td>\n",
       "    </tr>\n",
       "    <tr>\n",
       "      <th>4307</th>\n",
       "      <td>1.816428</td>\n",
       "      <td>-1.474546</td>\n",
       "      <td>1.240230</td>\n",
       "      <td>1.430149</td>\n",
       "      <td>-0.898075</td>\n",
       "      <td>0.675929</td>\n",
       "    </tr>\n",
       "    <tr>\n",
       "      <th>5699</th>\n",
       "      <td>0.937167</td>\n",
       "      <td>-0.221707</td>\n",
       "      <td>0.344718</td>\n",
       "      <td>0.350293</td>\n",
       "      <td>-0.898075</td>\n",
       "      <td>-0.371900</td>\n",
       "    </tr>\n",
       "    <tr>\n",
       "      <th>537</th>\n",
       "      <td>-1.242622</td>\n",
       "      <td>0.475626</td>\n",
       "      <td>0.365544</td>\n",
       "      <td>1.430149</td>\n",
       "      <td>0.802288</td>\n",
       "      <td>-0.467157</td>\n",
       "    </tr>\n",
       "    <tr>\n",
       "      <th>9412</th>\n",
       "      <td>0.340569</td>\n",
       "      <td>0.581923</td>\n",
       "      <td>0.771648</td>\n",
       "      <td>0.350293</td>\n",
       "      <td>-0.898075</td>\n",
       "      <td>-1.229214</td>\n",
       "    </tr>\n",
       "  </tbody>\n",
       "</table>\n",
       "<p>6000 rows × 6 columns</p>\n",
       "</div>"
      ],
      "text/plain": [
       "       Balance  EstimatedSalary  CreditScore    Tenure  NumOfProducts  \\\n",
       "8050 -1.242622         0.532607     0.584215 -1.089514       0.802288   \n",
       "1265  0.633982         0.380518    -1.217221 -0.009659       2.502650   \n",
       "961   0.970488         0.234886     0.355131 -0.009659      -0.898075   \n",
       "2510  0.032300        -0.266872    -0.269644 -1.089514      -0.898075   \n",
       "8628 -1.242622         0.913119     0.552977 -0.729562       0.802288   \n",
       "...        ...              ...          ...       ...            ...   \n",
       "919  -1.242622        -1.266692    -1.029788  1.430149       0.802288   \n",
       "4307  1.816428        -1.474546     1.240230  1.430149      -0.898075   \n",
       "5699  0.937167        -0.221707     0.344718  0.350293      -0.898075   \n",
       "537  -1.242622         0.475626     0.365544  1.430149       0.802288   \n",
       "9412  0.340569         0.581923     0.771648  0.350293      -0.898075   \n",
       "\n",
       "           Age  \n",
       "8050 -0.562414  \n",
       "1265  1.533243  \n",
       "961  -0.371900  \n",
       "2510  1.247471  \n",
       "8628  0.485414  \n",
       "...        ...  \n",
       "919   0.580671  \n",
       "4307  0.675929  \n",
       "5699 -0.371900  \n",
       "537  -0.467157  \n",
       "9412 -1.229214  \n",
       "\n",
       "[6000 rows x 6 columns]"
      ]
     },
     "execution_count": 34,
     "metadata": {},
     "output_type": "execute_result"
    }
   ],
   "source": [
    "ss = StandardScaler()\n",
    "display(x_train[not_cat_col])\n",
    "print()\n",
    "x_train[not_cat_col] = ss.fit_transform(x_train[not_cat_col])\n",
    "x_train[not_cat_col]"
   ]
  },
  {
   "cell_type": "markdown",
   "metadata": {
    "id": "gakt4ElAHrTj"
   },
   "source": [
    "Нормализуем валидационную выборку"
   ]
  },
  {
   "cell_type": "code",
   "execution_count": 35,
   "metadata": {
    "colab": {
     "base_uri": "https://localhost:8080/",
     "height": 423
    },
    "id": "WbmNNJzDHrTk",
    "outputId": "143f8842-5361-4525-f637-7be32da48b60"
   },
   "outputs": [
    {
     "data": {
      "text/html": [
       "<div>\n",
       "<style scoped>\n",
       "    .dataframe tbody tr th:only-of-type {\n",
       "        vertical-align: middle;\n",
       "    }\n",
       "\n",
       "    .dataframe tbody tr th {\n",
       "        vertical-align: top;\n",
       "    }\n",
       "\n",
       "    .dataframe thead th {\n",
       "        text-align: right;\n",
       "    }\n",
       "</style>\n",
       "<table border=\"1\" class=\"dataframe\">\n",
       "  <thead>\n",
       "    <tr style=\"text-align: right;\">\n",
       "      <th></th>\n",
       "      <th>CreditScore</th>\n",
       "      <th>Geography</th>\n",
       "      <th>Age</th>\n",
       "      <th>Tenure</th>\n",
       "      <th>Balance</th>\n",
       "      <th>NumOfProducts</th>\n",
       "      <th>HasCrCard</th>\n",
       "      <th>IsActiveMember</th>\n",
       "      <th>EstimatedSalary</th>\n",
       "      <th>Is_male</th>\n",
       "    </tr>\n",
       "  </thead>\n",
       "  <tbody>\n",
       "    <tr>\n",
       "      <th>8078</th>\n",
       "      <td>-0.779878</td>\n",
       "      <td>France</td>\n",
       "      <td>1.056957</td>\n",
       "      <td>1.070197</td>\n",
       "      <td>-1.242622</td>\n",
       "      <td>0.802288</td>\n",
       "      <td>1</td>\n",
       "      <td>1</td>\n",
       "      <td>-0.730087</td>\n",
       "      <td>0</td>\n",
       "    </tr>\n",
       "    <tr>\n",
       "      <th>2655</th>\n",
       "      <td>2.073264</td>\n",
       "      <td>Germany</td>\n",
       "      <td>1.342728</td>\n",
       "      <td>-1.089514</td>\n",
       "      <td>0.266688</td>\n",
       "      <td>0.802288</td>\n",
       "      <td>1</td>\n",
       "      <td>0</td>\n",
       "      <td>-1.089933</td>\n",
       "      <td>1</td>\n",
       "    </tr>\n",
       "    <tr>\n",
       "      <th>6094</th>\n",
       "      <td>-0.644510</td>\n",
       "      <td>France</td>\n",
       "      <td>-0.752928</td>\n",
       "      <td>1.790101</td>\n",
       "      <td>0.532302</td>\n",
       "      <td>-0.898075</td>\n",
       "      <td>1</td>\n",
       "      <td>0</td>\n",
       "      <td>0.832482</td>\n",
       "      <td>0</td>\n",
       "    </tr>\n",
       "    <tr>\n",
       "      <th>2901</th>\n",
       "      <td>-1.592086</td>\n",
       "      <td>France</td>\n",
       "      <td>3.247871</td>\n",
       "      <td>-1.089514</td>\n",
       "      <td>1.488568</td>\n",
       "      <td>0.802288</td>\n",
       "      <td>1</td>\n",
       "      <td>1</td>\n",
       "      <td>1.129543</td>\n",
       "      <td>1</td>\n",
       "    </tr>\n",
       "    <tr>\n",
       "      <th>4211</th>\n",
       "      <td>1.469314</td>\n",
       "      <td>Spain</td>\n",
       "      <td>0.771186</td>\n",
       "      <td>-1.809418</td>\n",
       "      <td>-1.242622</td>\n",
       "      <td>-0.898075</td>\n",
       "      <td>1</td>\n",
       "      <td>1</td>\n",
       "      <td>-1.632977</td>\n",
       "      <td>1</td>\n",
       "    </tr>\n",
       "    <tr>\n",
       "      <th>...</th>\n",
       "      <td>...</td>\n",
       "      <td>...</td>\n",
       "      <td>...</td>\n",
       "      <td>...</td>\n",
       "      <td>...</td>\n",
       "      <td>...</td>\n",
       "      <td>...</td>\n",
       "      <td>...</td>\n",
       "      <td>...</td>\n",
       "      <td>...</td>\n",
       "    </tr>\n",
       "    <tr>\n",
       "      <th>7835</th>\n",
       "      <td>0.146873</td>\n",
       "      <td>France</td>\n",
       "      <td>0.199643</td>\n",
       "      <td>1.070197</td>\n",
       "      <td>0.299875</td>\n",
       "      <td>-0.898075</td>\n",
       "      <td>1</td>\n",
       "      <td>0</td>\n",
       "      <td>0.639254</td>\n",
       "      <td>0</td>\n",
       "    </tr>\n",
       "    <tr>\n",
       "      <th>2416</th>\n",
       "      <td>2.073264</td>\n",
       "      <td>France</td>\n",
       "      <td>0.675929</td>\n",
       "      <td>-0.009659</td>\n",
       "      <td>0.644685</td>\n",
       "      <td>-0.898075</td>\n",
       "      <td>1</td>\n",
       "      <td>0</td>\n",
       "      <td>-0.192306</td>\n",
       "      <td>1</td>\n",
       "    </tr>\n",
       "    <tr>\n",
       "      <th>4251</th>\n",
       "      <td>-0.519555</td>\n",
       "      <td>France</td>\n",
       "      <td>-0.371900</td>\n",
       "      <td>-1.089514</td>\n",
       "      <td>-1.242622</td>\n",
       "      <td>0.802288</td>\n",
       "      <td>1</td>\n",
       "      <td>1</td>\n",
       "      <td>0.327233</td>\n",
       "      <td>1</td>\n",
       "    </tr>\n",
       "    <tr>\n",
       "      <th>1497</th>\n",
       "      <td>-0.207167</td>\n",
       "      <td>France</td>\n",
       "      <td>-0.371900</td>\n",
       "      <td>1.430149</td>\n",
       "      <td>0.560492</td>\n",
       "      <td>0.802288</td>\n",
       "      <td>1</td>\n",
       "      <td>0</td>\n",
       "      <td>-1.306101</td>\n",
       "      <td>1</td>\n",
       "    </tr>\n",
       "    <tr>\n",
       "      <th>2315</th>\n",
       "      <td>0.115634</td>\n",
       "      <td>France</td>\n",
       "      <td>-0.181385</td>\n",
       "      <td>0.350293</td>\n",
       "      <td>-1.242622</td>\n",
       "      <td>0.802288</td>\n",
       "      <td>1</td>\n",
       "      <td>0</td>\n",
       "      <td>-0.843689</td>\n",
       "      <td>0</td>\n",
       "    </tr>\n",
       "  </tbody>\n",
       "</table>\n",
       "<p>2000 rows × 10 columns</p>\n",
       "</div>"
      ],
      "text/plain": [
       "      CreditScore Geography       Age    Tenure   Balance  NumOfProducts  \\\n",
       "8078    -0.779878    France  1.056957  1.070197 -1.242622       0.802288   \n",
       "2655     2.073264   Germany  1.342728 -1.089514  0.266688       0.802288   \n",
       "6094    -0.644510    France -0.752928  1.790101  0.532302      -0.898075   \n",
       "2901    -1.592086    France  3.247871 -1.089514  1.488568       0.802288   \n",
       "4211     1.469314     Spain  0.771186 -1.809418 -1.242622      -0.898075   \n",
       "...           ...       ...       ...       ...       ...            ...   \n",
       "7835     0.146873    France  0.199643  1.070197  0.299875      -0.898075   \n",
       "2416     2.073264    France  0.675929 -0.009659  0.644685      -0.898075   \n",
       "4251    -0.519555    France -0.371900 -1.089514 -1.242622       0.802288   \n",
       "1497    -0.207167    France -0.371900  1.430149  0.560492       0.802288   \n",
       "2315     0.115634    France -0.181385  0.350293 -1.242622       0.802288   \n",
       "\n",
       "      HasCrCard  IsActiveMember  EstimatedSalary  Is_male  \n",
       "8078          1               1        -0.730087        0  \n",
       "2655          1               0        -1.089933        1  \n",
       "6094          1               0         0.832482        0  \n",
       "2901          1               1         1.129543        1  \n",
       "4211          1               1        -1.632977        1  \n",
       "...         ...             ...              ...      ...  \n",
       "7835          1               0         0.639254        0  \n",
       "2416          1               0        -0.192306        1  \n",
       "4251          1               1         0.327233        1  \n",
       "1497          1               0        -1.306101        1  \n",
       "2315          1               0        -0.843689        0  \n",
       "\n",
       "[2000 rows x 10 columns]"
      ]
     },
     "execution_count": 35,
     "metadata": {},
     "output_type": "execute_result"
    }
   ],
   "source": [
    "x_valid[not_cat_col] = ss.transform(x_valid[not_cat_col])\n",
    "x_valid"
   ]
  },
  {
   "cell_type": "markdown",
   "metadata": {
    "id": "lEkkFQsQHrTk"
   },
   "source": [
    "Делаем нормализацию тестовой выборки"
   ]
  },
  {
   "cell_type": "code",
   "execution_count": 36,
   "metadata": {
    "colab": {
     "base_uri": "https://localhost:8080/",
     "height": 423
    },
    "id": "4tK6rt_2HrTk",
    "outputId": "a41fad79-f364-463b-de28-a14f6e058148"
   },
   "outputs": [
    {
     "data": {
      "text/html": [
       "<div>\n",
       "<style scoped>\n",
       "    .dataframe tbody tr th:only-of-type {\n",
       "        vertical-align: middle;\n",
       "    }\n",
       "\n",
       "    .dataframe tbody tr th {\n",
       "        vertical-align: top;\n",
       "    }\n",
       "\n",
       "    .dataframe thead th {\n",
       "        text-align: right;\n",
       "    }\n",
       "</style>\n",
       "<table border=\"1\" class=\"dataframe\">\n",
       "  <thead>\n",
       "    <tr style=\"text-align: right;\">\n",
       "      <th></th>\n",
       "      <th>CreditScore</th>\n",
       "      <th>Geography</th>\n",
       "      <th>Age</th>\n",
       "      <th>Tenure</th>\n",
       "      <th>Balance</th>\n",
       "      <th>NumOfProducts</th>\n",
       "      <th>HasCrCard</th>\n",
       "      <th>IsActiveMember</th>\n",
       "      <th>EstimatedSalary</th>\n",
       "      <th>Is_male</th>\n",
       "    </tr>\n",
       "  </thead>\n",
       "  <tbody>\n",
       "    <tr>\n",
       "      <th>9347</th>\n",
       "      <td>0.094808</td>\n",
       "      <td>Spain</td>\n",
       "      <td>-0.276643</td>\n",
       "      <td>-1.809418</td>\n",
       "      <td>0.112027</td>\n",
       "      <td>-0.898075</td>\n",
       "      <td>1</td>\n",
       "      <td>1</td>\n",
       "      <td>1.406772</td>\n",
       "      <td>0</td>\n",
       "    </tr>\n",
       "    <tr>\n",
       "      <th>5058</th>\n",
       "      <td>0.657106</td>\n",
       "      <td>France</td>\n",
       "      <td>-0.181385</td>\n",
       "      <td>1.430149</td>\n",
       "      <td>1.139235</td>\n",
       "      <td>0.802288</td>\n",
       "      <td>0</td>\n",
       "      <td>1</td>\n",
       "      <td>0.885401</td>\n",
       "      <td>1</td>\n",
       "    </tr>\n",
       "    <tr>\n",
       "      <th>2792</th>\n",
       "      <td>-1.206808</td>\n",
       "      <td>France</td>\n",
       "      <td>0.580671</td>\n",
       "      <td>-1.089514</td>\n",
       "      <td>-1.242622</td>\n",
       "      <td>0.802288</td>\n",
       "      <td>0</td>\n",
       "      <td>1</td>\n",
       "      <td>1.219644</td>\n",
       "      <td>0</td>\n",
       "    </tr>\n",
       "    <tr>\n",
       "      <th>3623</th>\n",
       "      <td>0.459260</td>\n",
       "      <td>Germany</td>\n",
       "      <td>-1.133957</td>\n",
       "      <td>-0.009659</td>\n",
       "      <td>0.771626</td>\n",
       "      <td>-0.898075</td>\n",
       "      <td>1</td>\n",
       "      <td>0</td>\n",
       "      <td>0.090610</td>\n",
       "      <td>1</td>\n",
       "    </tr>\n",
       "    <tr>\n",
       "      <th>8292</th>\n",
       "      <td>1.375598</td>\n",
       "      <td>Germany</td>\n",
       "      <td>0.199643</td>\n",
       "      <td>-0.009659</td>\n",
       "      <td>0.468213</td>\n",
       "      <td>-0.898075</td>\n",
       "      <td>1</td>\n",
       "      <td>0</td>\n",
       "      <td>1.328942</td>\n",
       "      <td>0</td>\n",
       "    </tr>\n",
       "    <tr>\n",
       "      <th>...</th>\n",
       "      <td>...</td>\n",
       "      <td>...</td>\n",
       "      <td>...</td>\n",
       "      <td>...</td>\n",
       "      <td>...</td>\n",
       "      <td>...</td>\n",
       "      <td>...</td>\n",
       "      <td>...</td>\n",
       "      <td>...</td>\n",
       "      <td>...</td>\n",
       "    </tr>\n",
       "    <tr>\n",
       "      <th>5870</th>\n",
       "      <td>-0.196754</td>\n",
       "      <td>France</td>\n",
       "      <td>0.390157</td>\n",
       "      <td>-1.089514</td>\n",
       "      <td>0.361896</td>\n",
       "      <td>-0.898075</td>\n",
       "      <td>1</td>\n",
       "      <td>0</td>\n",
       "      <td>-1.309504</td>\n",
       "      <td>1</td>\n",
       "    </tr>\n",
       "    <tr>\n",
       "      <th>97</th>\n",
       "      <td>1.698398</td>\n",
       "      <td>Germany</td>\n",
       "      <td>-0.943442</td>\n",
       "      <td>1.070197</td>\n",
       "      <td>0.314937</td>\n",
       "      <td>0.802288</td>\n",
       "      <td>1</td>\n",
       "      <td>1</td>\n",
       "      <td>1.680287</td>\n",
       "      <td>1</td>\n",
       "    </tr>\n",
       "    <tr>\n",
       "      <th>8328</th>\n",
       "      <td>-0.134276</td>\n",
       "      <td>Spain</td>\n",
       "      <td>-0.467157</td>\n",
       "      <td>-0.009659</td>\n",
       "      <td>1.110564</td>\n",
       "      <td>-0.898075</td>\n",
       "      <td>1</td>\n",
       "      <td>0</td>\n",
       "      <td>0.036838</td>\n",
       "      <td>1</td>\n",
       "    </tr>\n",
       "    <tr>\n",
       "      <th>7140</th>\n",
       "      <td>0.542564</td>\n",
       "      <td>Spain</td>\n",
       "      <td>0.009129</td>\n",
       "      <td>0.350293</td>\n",
       "      <td>1.206912</td>\n",
       "      <td>-0.898075</td>\n",
       "      <td>0</td>\n",
       "      <td>0</td>\n",
       "      <td>1.444907</td>\n",
       "      <td>1</td>\n",
       "    </tr>\n",
       "    <tr>\n",
       "      <th>2731</th>\n",
       "      <td>0.198937</td>\n",
       "      <td>France</td>\n",
       "      <td>-0.562414</td>\n",
       "      <td>0.710245</td>\n",
       "      <td>-1.242622</td>\n",
       "      <td>0.802288</td>\n",
       "      <td>1</td>\n",
       "      <td>1</td>\n",
       "      <td>-0.204971</td>\n",
       "      <td>0</td>\n",
       "    </tr>\n",
       "  </tbody>\n",
       "</table>\n",
       "<p>2000 rows × 10 columns</p>\n",
       "</div>"
      ],
      "text/plain": [
       "      CreditScore Geography       Age    Tenure   Balance  NumOfProducts  \\\n",
       "9347     0.094808     Spain -0.276643 -1.809418  0.112027      -0.898075   \n",
       "5058     0.657106    France -0.181385  1.430149  1.139235       0.802288   \n",
       "2792    -1.206808    France  0.580671 -1.089514 -1.242622       0.802288   \n",
       "3623     0.459260   Germany -1.133957 -0.009659  0.771626      -0.898075   \n",
       "8292     1.375598   Germany  0.199643 -0.009659  0.468213      -0.898075   \n",
       "...           ...       ...       ...       ...       ...            ...   \n",
       "5870    -0.196754    France  0.390157 -1.089514  0.361896      -0.898075   \n",
       "97       1.698398   Germany -0.943442  1.070197  0.314937       0.802288   \n",
       "8328    -0.134276     Spain -0.467157 -0.009659  1.110564      -0.898075   \n",
       "7140     0.542564     Spain  0.009129  0.350293  1.206912      -0.898075   \n",
       "2731     0.198937    France -0.562414  0.710245 -1.242622       0.802288   \n",
       "\n",
       "      HasCrCard  IsActiveMember  EstimatedSalary  Is_male  \n",
       "9347          1               1         1.406772        0  \n",
       "5058          0               1         0.885401        1  \n",
       "2792          0               1         1.219644        0  \n",
       "3623          1               0         0.090610        1  \n",
       "8292          1               0         1.328942        0  \n",
       "...         ...             ...              ...      ...  \n",
       "5870          1               0        -1.309504        1  \n",
       "97            1               1         1.680287        1  \n",
       "8328          1               0         0.036838        1  \n",
       "7140          0               0         1.444907        1  \n",
       "2731          1               1        -0.204971        0  \n",
       "\n",
       "[2000 rows x 10 columns]"
      ]
     },
     "execution_count": 36,
     "metadata": {},
     "output_type": "execute_result"
    }
   ],
   "source": [
    "x_test[not_cat_col] = ss.transform(x_test[not_cat_col])\n",
    "x_test"
   ]
  },
  {
   "cell_type": "markdown",
   "metadata": {
    "id": "ANRH9C65HrTl"
   },
   "source": [
    "Делаем OneHot-кодировку для тренировочной, валидационной и тестовой"
   ]
  },
  {
   "cell_type": "code",
   "execution_count": 37,
   "metadata": {
    "colab": {
     "base_uri": "https://localhost:8080/",
     "height": 423
    },
    "id": "u9ooMqz-HrTl",
    "outputId": "740cbeb3-e802-483d-ef6d-8ddffd540af9"
   },
   "outputs": [
    {
     "data": {
      "text/html": [
       "<div>\n",
       "<style scoped>\n",
       "    .dataframe tbody tr th:only-of-type {\n",
       "        vertical-align: middle;\n",
       "    }\n",
       "\n",
       "    .dataframe tbody tr th {\n",
       "        vertical-align: top;\n",
       "    }\n",
       "\n",
       "    .dataframe thead th {\n",
       "        text-align: right;\n",
       "    }\n",
       "</style>\n",
       "<table border=\"1\" class=\"dataframe\">\n",
       "  <thead>\n",
       "    <tr style=\"text-align: right;\">\n",
       "      <th></th>\n",
       "      <th>CreditScore</th>\n",
       "      <th>Age</th>\n",
       "      <th>Tenure</th>\n",
       "      <th>Balance</th>\n",
       "      <th>NumOfProducts</th>\n",
       "      <th>HasCrCard</th>\n",
       "      <th>IsActiveMember</th>\n",
       "      <th>EstimatedSalary</th>\n",
       "      <th>Is_male</th>\n",
       "      <th>Germany</th>\n",
       "      <th>Spain</th>\n",
       "    </tr>\n",
       "  </thead>\n",
       "  <tbody>\n",
       "    <tr>\n",
       "      <th>8050</th>\n",
       "      <td>0.584215</td>\n",
       "      <td>-0.562414</td>\n",
       "      <td>-1.089514</td>\n",
       "      <td>-1.242622</td>\n",
       "      <td>0.802288</td>\n",
       "      <td>0</td>\n",
       "      <td>0</td>\n",
       "      <td>0.532607</td>\n",
       "      <td>1</td>\n",
       "      <td>0</td>\n",
       "      <td>0</td>\n",
       "    </tr>\n",
       "    <tr>\n",
       "      <th>1265</th>\n",
       "      <td>-1.217221</td>\n",
       "      <td>1.533243</td>\n",
       "      <td>-0.009659</td>\n",
       "      <td>0.633982</td>\n",
       "      <td>2.502650</td>\n",
       "      <td>1</td>\n",
       "      <td>0</td>\n",
       "      <td>0.380518</td>\n",
       "      <td>0</td>\n",
       "      <td>0</td>\n",
       "      <td>0</td>\n",
       "    </tr>\n",
       "    <tr>\n",
       "      <th>961</th>\n",
       "      <td>0.355131</td>\n",
       "      <td>-0.371900</td>\n",
       "      <td>-0.009659</td>\n",
       "      <td>0.970488</td>\n",
       "      <td>-0.898075</td>\n",
       "      <td>1</td>\n",
       "      <td>0</td>\n",
       "      <td>0.234886</td>\n",
       "      <td>1</td>\n",
       "      <td>0</td>\n",
       "      <td>1</td>\n",
       "    </tr>\n",
       "    <tr>\n",
       "      <th>2510</th>\n",
       "      <td>-0.269644</td>\n",
       "      <td>1.247471</td>\n",
       "      <td>-1.089514</td>\n",
       "      <td>0.032300</td>\n",
       "      <td>-0.898075</td>\n",
       "      <td>1</td>\n",
       "      <td>1</td>\n",
       "      <td>-0.266872</td>\n",
       "      <td>0</td>\n",
       "      <td>0</td>\n",
       "      <td>0</td>\n",
       "    </tr>\n",
       "    <tr>\n",
       "      <th>8628</th>\n",
       "      <td>0.552977</td>\n",
       "      <td>0.485414</td>\n",
       "      <td>-0.729562</td>\n",
       "      <td>-1.242622</td>\n",
       "      <td>0.802288</td>\n",
       "      <td>0</td>\n",
       "      <td>1</td>\n",
       "      <td>0.913119</td>\n",
       "      <td>1</td>\n",
       "      <td>0</td>\n",
       "      <td>0</td>\n",
       "    </tr>\n",
       "    <tr>\n",
       "      <th>...</th>\n",
       "      <td>...</td>\n",
       "      <td>...</td>\n",
       "      <td>...</td>\n",
       "      <td>...</td>\n",
       "      <td>...</td>\n",
       "      <td>...</td>\n",
       "      <td>...</td>\n",
       "      <td>...</td>\n",
       "      <td>...</td>\n",
       "      <td>...</td>\n",
       "      <td>...</td>\n",
       "    </tr>\n",
       "    <tr>\n",
       "      <th>919</th>\n",
       "      <td>-1.029788</td>\n",
       "      <td>0.580671</td>\n",
       "      <td>1.430149</td>\n",
       "      <td>-1.242622</td>\n",
       "      <td>0.802288</td>\n",
       "      <td>1</td>\n",
       "      <td>0</td>\n",
       "      <td>-1.266692</td>\n",
       "      <td>1</td>\n",
       "      <td>0</td>\n",
       "      <td>1</td>\n",
       "    </tr>\n",
       "    <tr>\n",
       "      <th>4307</th>\n",
       "      <td>1.240230</td>\n",
       "      <td>0.675929</td>\n",
       "      <td>1.430149</td>\n",
       "      <td>1.816428</td>\n",
       "      <td>-0.898075</td>\n",
       "      <td>1</td>\n",
       "      <td>1</td>\n",
       "      <td>-1.474546</td>\n",
       "      <td>1</td>\n",
       "      <td>0</td>\n",
       "      <td>1</td>\n",
       "    </tr>\n",
       "    <tr>\n",
       "      <th>5699</th>\n",
       "      <td>0.344718</td>\n",
       "      <td>-0.371900</td>\n",
       "      <td>0.350293</td>\n",
       "      <td>0.937167</td>\n",
       "      <td>-0.898075</td>\n",
       "      <td>1</td>\n",
       "      <td>1</td>\n",
       "      <td>-0.221707</td>\n",
       "      <td>1</td>\n",
       "      <td>0</td>\n",
       "      <td>0</td>\n",
       "    </tr>\n",
       "    <tr>\n",
       "      <th>537</th>\n",
       "      <td>0.365544</td>\n",
       "      <td>-0.467157</td>\n",
       "      <td>1.430149</td>\n",
       "      <td>-1.242622</td>\n",
       "      <td>0.802288</td>\n",
       "      <td>1</td>\n",
       "      <td>0</td>\n",
       "      <td>0.475626</td>\n",
       "      <td>1</td>\n",
       "      <td>0</td>\n",
       "      <td>1</td>\n",
       "    </tr>\n",
       "    <tr>\n",
       "      <th>9412</th>\n",
       "      <td>0.771648</td>\n",
       "      <td>-1.229214</td>\n",
       "      <td>0.350293</td>\n",
       "      <td>0.340569</td>\n",
       "      <td>-0.898075</td>\n",
       "      <td>0</td>\n",
       "      <td>0</td>\n",
       "      <td>0.581923</td>\n",
       "      <td>1</td>\n",
       "      <td>0</td>\n",
       "      <td>0</td>\n",
       "    </tr>\n",
       "  </tbody>\n",
       "</table>\n",
       "<p>6000 rows × 11 columns</p>\n",
       "</div>"
      ],
      "text/plain": [
       "      CreditScore       Age    Tenure   Balance  NumOfProducts  HasCrCard  \\\n",
       "8050     0.584215 -0.562414 -1.089514 -1.242622       0.802288          0   \n",
       "1265    -1.217221  1.533243 -0.009659  0.633982       2.502650          1   \n",
       "961      0.355131 -0.371900 -0.009659  0.970488      -0.898075          1   \n",
       "2510    -0.269644  1.247471 -1.089514  0.032300      -0.898075          1   \n",
       "8628     0.552977  0.485414 -0.729562 -1.242622       0.802288          0   \n",
       "...           ...       ...       ...       ...            ...        ...   \n",
       "919     -1.029788  0.580671  1.430149 -1.242622       0.802288          1   \n",
       "4307     1.240230  0.675929  1.430149  1.816428      -0.898075          1   \n",
       "5699     0.344718 -0.371900  0.350293  0.937167      -0.898075          1   \n",
       "537      0.365544 -0.467157  1.430149 -1.242622       0.802288          1   \n",
       "9412     0.771648 -1.229214  0.350293  0.340569      -0.898075          0   \n",
       "\n",
       "      IsActiveMember  EstimatedSalary  Is_male  Germany  Spain  \n",
       "8050               0         0.532607        1        0      0  \n",
       "1265               0         0.380518        0        0      0  \n",
       "961                0         0.234886        1        0      1  \n",
       "2510               1        -0.266872        0        0      0  \n",
       "8628               1         0.913119        1        0      0  \n",
       "...              ...              ...      ...      ...    ...  \n",
       "919                0        -1.266692        1        0      1  \n",
       "4307               1        -1.474546        1        0      1  \n",
       "5699               1        -0.221707        1        0      0  \n",
       "537                0         0.475626        1        0      1  \n",
       "9412               0         0.581923        1        0      0  \n",
       "\n",
       "[6000 rows x 11 columns]"
      ]
     },
     "execution_count": 37,
     "metadata": {},
     "output_type": "execute_result"
    }
   ],
   "source": [
    "onehotencoder = OneHotEncoder(drop='first', dtype='int')\n",
    "data_new = onehotencoder.fit_transform(x_train[['Geography']].values)\n",
    "one_h = pd.DataFrame(data_new.toarray(), columns=onehotencoder.categories_[0][1:], index=x_train[['Geography']].index)\n",
    "x_train = pd.concat([x_train, one_h], axis=1)\n",
    "x_train.drop('Geography', axis=1, inplace=True)\n",
    "x_train"
   ]
  },
  {
   "cell_type": "code",
   "execution_count": 38,
   "metadata": {
    "colab": {
     "base_uri": "https://localhost:8080/",
     "height": 423
    },
    "id": "m-JS-ItlHrTm",
    "outputId": "1c63f970-3e7a-459d-a6cb-888c5cfa86b1"
   },
   "outputs": [
    {
     "data": {
      "text/html": [
       "<div>\n",
       "<style scoped>\n",
       "    .dataframe tbody tr th:only-of-type {\n",
       "        vertical-align: middle;\n",
       "    }\n",
       "\n",
       "    .dataframe tbody tr th {\n",
       "        vertical-align: top;\n",
       "    }\n",
       "\n",
       "    .dataframe thead th {\n",
       "        text-align: right;\n",
       "    }\n",
       "</style>\n",
       "<table border=\"1\" class=\"dataframe\">\n",
       "  <thead>\n",
       "    <tr style=\"text-align: right;\">\n",
       "      <th></th>\n",
       "      <th>CreditScore</th>\n",
       "      <th>Age</th>\n",
       "      <th>Tenure</th>\n",
       "      <th>Balance</th>\n",
       "      <th>NumOfProducts</th>\n",
       "      <th>HasCrCard</th>\n",
       "      <th>IsActiveMember</th>\n",
       "      <th>EstimatedSalary</th>\n",
       "      <th>Is_male</th>\n",
       "      <th>Germany</th>\n",
       "      <th>Spain</th>\n",
       "    </tr>\n",
       "  </thead>\n",
       "  <tbody>\n",
       "    <tr>\n",
       "      <th>8078</th>\n",
       "      <td>-0.779878</td>\n",
       "      <td>1.056957</td>\n",
       "      <td>1.070197</td>\n",
       "      <td>-1.242622</td>\n",
       "      <td>0.802288</td>\n",
       "      <td>1</td>\n",
       "      <td>1</td>\n",
       "      <td>-0.730087</td>\n",
       "      <td>0</td>\n",
       "      <td>0</td>\n",
       "      <td>0</td>\n",
       "    </tr>\n",
       "    <tr>\n",
       "      <th>2655</th>\n",
       "      <td>2.073264</td>\n",
       "      <td>1.342728</td>\n",
       "      <td>-1.089514</td>\n",
       "      <td>0.266688</td>\n",
       "      <td>0.802288</td>\n",
       "      <td>1</td>\n",
       "      <td>0</td>\n",
       "      <td>-1.089933</td>\n",
       "      <td>1</td>\n",
       "      <td>1</td>\n",
       "      <td>0</td>\n",
       "    </tr>\n",
       "    <tr>\n",
       "      <th>6094</th>\n",
       "      <td>-0.644510</td>\n",
       "      <td>-0.752928</td>\n",
       "      <td>1.790101</td>\n",
       "      <td>0.532302</td>\n",
       "      <td>-0.898075</td>\n",
       "      <td>1</td>\n",
       "      <td>0</td>\n",
       "      <td>0.832482</td>\n",
       "      <td>0</td>\n",
       "      <td>0</td>\n",
       "      <td>0</td>\n",
       "    </tr>\n",
       "    <tr>\n",
       "      <th>2901</th>\n",
       "      <td>-1.592086</td>\n",
       "      <td>3.247871</td>\n",
       "      <td>-1.089514</td>\n",
       "      <td>1.488568</td>\n",
       "      <td>0.802288</td>\n",
       "      <td>1</td>\n",
       "      <td>1</td>\n",
       "      <td>1.129543</td>\n",
       "      <td>1</td>\n",
       "      <td>0</td>\n",
       "      <td>0</td>\n",
       "    </tr>\n",
       "    <tr>\n",
       "      <th>4211</th>\n",
       "      <td>1.469314</td>\n",
       "      <td>0.771186</td>\n",
       "      <td>-1.809418</td>\n",
       "      <td>-1.242622</td>\n",
       "      <td>-0.898075</td>\n",
       "      <td>1</td>\n",
       "      <td>1</td>\n",
       "      <td>-1.632977</td>\n",
       "      <td>1</td>\n",
       "      <td>0</td>\n",
       "      <td>1</td>\n",
       "    </tr>\n",
       "    <tr>\n",
       "      <th>...</th>\n",
       "      <td>...</td>\n",
       "      <td>...</td>\n",
       "      <td>...</td>\n",
       "      <td>...</td>\n",
       "      <td>...</td>\n",
       "      <td>...</td>\n",
       "      <td>...</td>\n",
       "      <td>...</td>\n",
       "      <td>...</td>\n",
       "      <td>...</td>\n",
       "      <td>...</td>\n",
       "    </tr>\n",
       "    <tr>\n",
       "      <th>7835</th>\n",
       "      <td>0.146873</td>\n",
       "      <td>0.199643</td>\n",
       "      <td>1.070197</td>\n",
       "      <td>0.299875</td>\n",
       "      <td>-0.898075</td>\n",
       "      <td>1</td>\n",
       "      <td>0</td>\n",
       "      <td>0.639254</td>\n",
       "      <td>0</td>\n",
       "      <td>0</td>\n",
       "      <td>0</td>\n",
       "    </tr>\n",
       "    <tr>\n",
       "      <th>2416</th>\n",
       "      <td>2.073264</td>\n",
       "      <td>0.675929</td>\n",
       "      <td>-0.009659</td>\n",
       "      <td>0.644685</td>\n",
       "      <td>-0.898075</td>\n",
       "      <td>1</td>\n",
       "      <td>0</td>\n",
       "      <td>-0.192306</td>\n",
       "      <td>1</td>\n",
       "      <td>0</td>\n",
       "      <td>0</td>\n",
       "    </tr>\n",
       "    <tr>\n",
       "      <th>4251</th>\n",
       "      <td>-0.519555</td>\n",
       "      <td>-0.371900</td>\n",
       "      <td>-1.089514</td>\n",
       "      <td>-1.242622</td>\n",
       "      <td>0.802288</td>\n",
       "      <td>1</td>\n",
       "      <td>1</td>\n",
       "      <td>0.327233</td>\n",
       "      <td>1</td>\n",
       "      <td>0</td>\n",
       "      <td>0</td>\n",
       "    </tr>\n",
       "    <tr>\n",
       "      <th>1497</th>\n",
       "      <td>-0.207167</td>\n",
       "      <td>-0.371900</td>\n",
       "      <td>1.430149</td>\n",
       "      <td>0.560492</td>\n",
       "      <td>0.802288</td>\n",
       "      <td>1</td>\n",
       "      <td>0</td>\n",
       "      <td>-1.306101</td>\n",
       "      <td>1</td>\n",
       "      <td>0</td>\n",
       "      <td>0</td>\n",
       "    </tr>\n",
       "    <tr>\n",
       "      <th>2315</th>\n",
       "      <td>0.115634</td>\n",
       "      <td>-0.181385</td>\n",
       "      <td>0.350293</td>\n",
       "      <td>-1.242622</td>\n",
       "      <td>0.802288</td>\n",
       "      <td>1</td>\n",
       "      <td>0</td>\n",
       "      <td>-0.843689</td>\n",
       "      <td>0</td>\n",
       "      <td>0</td>\n",
       "      <td>0</td>\n",
       "    </tr>\n",
       "  </tbody>\n",
       "</table>\n",
       "<p>2000 rows × 11 columns</p>\n",
       "</div>"
      ],
      "text/plain": [
       "      CreditScore       Age    Tenure   Balance  NumOfProducts  HasCrCard  \\\n",
       "8078    -0.779878  1.056957  1.070197 -1.242622       0.802288          1   \n",
       "2655     2.073264  1.342728 -1.089514  0.266688       0.802288          1   \n",
       "6094    -0.644510 -0.752928  1.790101  0.532302      -0.898075          1   \n",
       "2901    -1.592086  3.247871 -1.089514  1.488568       0.802288          1   \n",
       "4211     1.469314  0.771186 -1.809418 -1.242622      -0.898075          1   \n",
       "...           ...       ...       ...       ...            ...        ...   \n",
       "7835     0.146873  0.199643  1.070197  0.299875      -0.898075          1   \n",
       "2416     2.073264  0.675929 -0.009659  0.644685      -0.898075          1   \n",
       "4251    -0.519555 -0.371900 -1.089514 -1.242622       0.802288          1   \n",
       "1497    -0.207167 -0.371900  1.430149  0.560492       0.802288          1   \n",
       "2315     0.115634 -0.181385  0.350293 -1.242622       0.802288          1   \n",
       "\n",
       "      IsActiveMember  EstimatedSalary  Is_male  Germany  Spain  \n",
       "8078               1        -0.730087        0        0      0  \n",
       "2655               0        -1.089933        1        1      0  \n",
       "6094               0         0.832482        0        0      0  \n",
       "2901               1         1.129543        1        0      0  \n",
       "4211               1        -1.632977        1        0      1  \n",
       "...              ...              ...      ...      ...    ...  \n",
       "7835               0         0.639254        0        0      0  \n",
       "2416               0        -0.192306        1        0      0  \n",
       "4251               1         0.327233        1        0      0  \n",
       "1497               0        -1.306101        1        0      0  \n",
       "2315               0        -0.843689        0        0      0  \n",
       "\n",
       "[2000 rows x 11 columns]"
      ]
     },
     "execution_count": 38,
     "metadata": {},
     "output_type": "execute_result"
    }
   ],
   "source": [
    "data_new_v = onehotencoder.transform(x_valid[['Geography']].values)\n",
    "one_h_v = pd.DataFrame(data_new_v.toarray(), columns=onehotencoder.categories_[0][1:], index=x_valid[['Geography']].index)\n",
    "x_valid = pd.concat([x_valid, one_h_v], axis=1)\n",
    "x_valid.drop('Geography', axis=1, inplace=True)\n",
    "x_valid"
   ]
  },
  {
   "cell_type": "code",
   "execution_count": 39,
   "metadata": {
    "colab": {
     "base_uri": "https://localhost:8080/",
     "height": 423
    },
    "id": "ErccRx7yHrTm",
    "outputId": "b1aa942c-3317-4fc4-ec1e-664792427f9d"
   },
   "outputs": [
    {
     "data": {
      "text/html": [
       "<div>\n",
       "<style scoped>\n",
       "    .dataframe tbody tr th:only-of-type {\n",
       "        vertical-align: middle;\n",
       "    }\n",
       "\n",
       "    .dataframe tbody tr th {\n",
       "        vertical-align: top;\n",
       "    }\n",
       "\n",
       "    .dataframe thead th {\n",
       "        text-align: right;\n",
       "    }\n",
       "</style>\n",
       "<table border=\"1\" class=\"dataframe\">\n",
       "  <thead>\n",
       "    <tr style=\"text-align: right;\">\n",
       "      <th></th>\n",
       "      <th>CreditScore</th>\n",
       "      <th>Age</th>\n",
       "      <th>Tenure</th>\n",
       "      <th>Balance</th>\n",
       "      <th>NumOfProducts</th>\n",
       "      <th>HasCrCard</th>\n",
       "      <th>IsActiveMember</th>\n",
       "      <th>EstimatedSalary</th>\n",
       "      <th>Is_male</th>\n",
       "      <th>Germany</th>\n",
       "      <th>Spain</th>\n",
       "    </tr>\n",
       "  </thead>\n",
       "  <tbody>\n",
       "    <tr>\n",
       "      <th>9347</th>\n",
       "      <td>0.094808</td>\n",
       "      <td>-0.276643</td>\n",
       "      <td>-1.809418</td>\n",
       "      <td>0.112027</td>\n",
       "      <td>-0.898075</td>\n",
       "      <td>1</td>\n",
       "      <td>1</td>\n",
       "      <td>1.406772</td>\n",
       "      <td>0</td>\n",
       "      <td>0</td>\n",
       "      <td>1</td>\n",
       "    </tr>\n",
       "    <tr>\n",
       "      <th>5058</th>\n",
       "      <td>0.657106</td>\n",
       "      <td>-0.181385</td>\n",
       "      <td>1.430149</td>\n",
       "      <td>1.139235</td>\n",
       "      <td>0.802288</td>\n",
       "      <td>0</td>\n",
       "      <td>1</td>\n",
       "      <td>0.885401</td>\n",
       "      <td>1</td>\n",
       "      <td>0</td>\n",
       "      <td>0</td>\n",
       "    </tr>\n",
       "    <tr>\n",
       "      <th>2792</th>\n",
       "      <td>-1.206808</td>\n",
       "      <td>0.580671</td>\n",
       "      <td>-1.089514</td>\n",
       "      <td>-1.242622</td>\n",
       "      <td>0.802288</td>\n",
       "      <td>0</td>\n",
       "      <td>1</td>\n",
       "      <td>1.219644</td>\n",
       "      <td>0</td>\n",
       "      <td>0</td>\n",
       "      <td>0</td>\n",
       "    </tr>\n",
       "    <tr>\n",
       "      <th>3623</th>\n",
       "      <td>0.459260</td>\n",
       "      <td>-1.133957</td>\n",
       "      <td>-0.009659</td>\n",
       "      <td>0.771626</td>\n",
       "      <td>-0.898075</td>\n",
       "      <td>1</td>\n",
       "      <td>0</td>\n",
       "      <td>0.090610</td>\n",
       "      <td>1</td>\n",
       "      <td>1</td>\n",
       "      <td>0</td>\n",
       "    </tr>\n",
       "    <tr>\n",
       "      <th>8292</th>\n",
       "      <td>1.375598</td>\n",
       "      <td>0.199643</td>\n",
       "      <td>-0.009659</td>\n",
       "      <td>0.468213</td>\n",
       "      <td>-0.898075</td>\n",
       "      <td>1</td>\n",
       "      <td>0</td>\n",
       "      <td>1.328942</td>\n",
       "      <td>0</td>\n",
       "      <td>1</td>\n",
       "      <td>0</td>\n",
       "    </tr>\n",
       "    <tr>\n",
       "      <th>...</th>\n",
       "      <td>...</td>\n",
       "      <td>...</td>\n",
       "      <td>...</td>\n",
       "      <td>...</td>\n",
       "      <td>...</td>\n",
       "      <td>...</td>\n",
       "      <td>...</td>\n",
       "      <td>...</td>\n",
       "      <td>...</td>\n",
       "      <td>...</td>\n",
       "      <td>...</td>\n",
       "    </tr>\n",
       "    <tr>\n",
       "      <th>5870</th>\n",
       "      <td>-0.196754</td>\n",
       "      <td>0.390157</td>\n",
       "      <td>-1.089514</td>\n",
       "      <td>0.361896</td>\n",
       "      <td>-0.898075</td>\n",
       "      <td>1</td>\n",
       "      <td>0</td>\n",
       "      <td>-1.309504</td>\n",
       "      <td>1</td>\n",
       "      <td>0</td>\n",
       "      <td>0</td>\n",
       "    </tr>\n",
       "    <tr>\n",
       "      <th>97</th>\n",
       "      <td>1.698398</td>\n",
       "      <td>-0.943442</td>\n",
       "      <td>1.070197</td>\n",
       "      <td>0.314937</td>\n",
       "      <td>0.802288</td>\n",
       "      <td>1</td>\n",
       "      <td>1</td>\n",
       "      <td>1.680287</td>\n",
       "      <td>1</td>\n",
       "      <td>1</td>\n",
       "      <td>0</td>\n",
       "    </tr>\n",
       "    <tr>\n",
       "      <th>8328</th>\n",
       "      <td>-0.134276</td>\n",
       "      <td>-0.467157</td>\n",
       "      <td>-0.009659</td>\n",
       "      <td>1.110564</td>\n",
       "      <td>-0.898075</td>\n",
       "      <td>1</td>\n",
       "      <td>0</td>\n",
       "      <td>0.036838</td>\n",
       "      <td>1</td>\n",
       "      <td>0</td>\n",
       "      <td>1</td>\n",
       "    </tr>\n",
       "    <tr>\n",
       "      <th>7140</th>\n",
       "      <td>0.542564</td>\n",
       "      <td>0.009129</td>\n",
       "      <td>0.350293</td>\n",
       "      <td>1.206912</td>\n",
       "      <td>-0.898075</td>\n",
       "      <td>0</td>\n",
       "      <td>0</td>\n",
       "      <td>1.444907</td>\n",
       "      <td>1</td>\n",
       "      <td>0</td>\n",
       "      <td>1</td>\n",
       "    </tr>\n",
       "    <tr>\n",
       "      <th>2731</th>\n",
       "      <td>0.198937</td>\n",
       "      <td>-0.562414</td>\n",
       "      <td>0.710245</td>\n",
       "      <td>-1.242622</td>\n",
       "      <td>0.802288</td>\n",
       "      <td>1</td>\n",
       "      <td>1</td>\n",
       "      <td>-0.204971</td>\n",
       "      <td>0</td>\n",
       "      <td>0</td>\n",
       "      <td>0</td>\n",
       "    </tr>\n",
       "  </tbody>\n",
       "</table>\n",
       "<p>2000 rows × 11 columns</p>\n",
       "</div>"
      ],
      "text/plain": [
       "      CreditScore       Age    Tenure   Balance  NumOfProducts  HasCrCard  \\\n",
       "9347     0.094808 -0.276643 -1.809418  0.112027      -0.898075          1   \n",
       "5058     0.657106 -0.181385  1.430149  1.139235       0.802288          0   \n",
       "2792    -1.206808  0.580671 -1.089514 -1.242622       0.802288          0   \n",
       "3623     0.459260 -1.133957 -0.009659  0.771626      -0.898075          1   \n",
       "8292     1.375598  0.199643 -0.009659  0.468213      -0.898075          1   \n",
       "...           ...       ...       ...       ...            ...        ...   \n",
       "5870    -0.196754  0.390157 -1.089514  0.361896      -0.898075          1   \n",
       "97       1.698398 -0.943442  1.070197  0.314937       0.802288          1   \n",
       "8328    -0.134276 -0.467157 -0.009659  1.110564      -0.898075          1   \n",
       "7140     0.542564  0.009129  0.350293  1.206912      -0.898075          0   \n",
       "2731     0.198937 -0.562414  0.710245 -1.242622       0.802288          1   \n",
       "\n",
       "      IsActiveMember  EstimatedSalary  Is_male  Germany  Spain  \n",
       "9347               1         1.406772        0        0      1  \n",
       "5058               1         0.885401        1        0      0  \n",
       "2792               1         1.219644        0        0      0  \n",
       "3623               0         0.090610        1        1      0  \n",
       "8292               0         1.328942        0        1      0  \n",
       "...              ...              ...      ...      ...    ...  \n",
       "5870               0        -1.309504        1        0      0  \n",
       "97                 1         1.680287        1        1      0  \n",
       "8328               0         0.036838        1        0      1  \n",
       "7140               0         1.444907        1        0      1  \n",
       "2731               1        -0.204971        0        0      0  \n",
       "\n",
       "[2000 rows x 11 columns]"
      ]
     },
     "execution_count": 39,
     "metadata": {},
     "output_type": "execute_result"
    }
   ],
   "source": [
    "data_new_t = onehotencoder.transform(x_test[['Geography']].values)\n",
    "one_h_t = pd.DataFrame(data_new_t.toarray(), columns=onehotencoder.categories_[0][1:], index=x_test[['Geography']].index)\n",
    "x_test = pd.concat([x_test, one_h_t], axis=1)\n",
    "x_test.drop('Geography', axis=1, inplace=True)\n",
    "x_test"
   ]
  },
  {
   "cell_type": "markdown",
   "metadata": {
    "id": "_qNLY2qKHrTm"
   },
   "source": [
    "Проверим правильность изменений наших данных"
   ]
  },
  {
   "cell_type": "code",
   "execution_count": 40,
   "metadata": {
    "colab": {
     "base_uri": "https://localhost:8080/"
    },
    "id": "xHgDqf40HrTn",
    "outputId": "2648d5a2-456a-4967-8df5-5031cf6b499f"
   },
   "outputs": [
    {
     "name": "stdout",
     "output_type": "stream",
     "text": [
      "Train:\n",
      "X: (6000, 11) y: (6000,)\n",
      "\n",
      "Valid:\n",
      "X: (2000, 11) y: (2000,)\n"
     ]
    }
   ],
   "source": [
    "print('Train:')\n",
    "print('X:', x_train.shape, 'y:', y_train.shape)\n",
    "print()\n",
    "print('Valid:')\n",
    "print('X:', x_valid.shape, 'y:', y_valid.shape)"
   ]
  },
  {
   "cell_type": "markdown",
   "metadata": {
    "id": "paysd_ryHrTn"
   },
   "source": [
    "## Models"
   ]
  },
  {
   "cell_type": "markdown",
   "metadata": {
    "id": "qZTMiRpJHrTo"
   },
   "source": [
    "### LogisticRegression"
   ]
  },
  {
   "cell_type": "code",
   "execution_count": 41,
   "metadata": {
    "colab": {
     "base_uri": "https://localhost:8080/"
    },
    "id": "pS8u6yvOHrTp",
    "outputId": "6419c646-d7f0-415b-bc21-7d32e6f4d568"
   },
   "outputs": [
    {
     "data": {
      "text/plain": [
       "0.30855018587360594"
      ]
     },
     "execution_count": 41,
     "metadata": {},
     "output_type": "execute_result"
    }
   ],
   "source": [
    "lr_model = LogisticRegression(random_state=SEED).fit(x_train, y_train)\n",
    "f1_score(lr_model.predict(x_valid), y_valid)"
   ]
  },
  {
   "cell_type": "markdown",
   "metadata": {
    "id": "eFESqv1PHrTp"
   },
   "source": [
    "### DecisionTree"
   ]
  },
  {
   "cell_type": "code",
   "execution_count": 42,
   "metadata": {
    "colab": {
     "base_uri": "https://localhost:8080/"
    },
    "id": "2YLpDTDbHrTp",
    "outputId": "c476c1d5-db3e-4c88-b246-c386b8c68b43"
   },
   "outputs": [
    {
     "data": {
      "text/plain": [
       "0.5059952038369304"
      ]
     },
     "execution_count": 42,
     "metadata": {},
     "output_type": "execute_result"
    }
   ],
   "source": [
    "tree_model = DecisionTreeClassifier(random_state=SEED).fit(x_train, y_train)\n",
    "f1_score(tree_model.predict(x_valid), y_valid)"
   ]
  },
  {
   "cell_type": "markdown",
   "metadata": {
    "id": "YfsWDN2MHrTp"
   },
   "source": [
    "### RandomForest"
   ]
  },
  {
   "cell_type": "code",
   "execution_count": 43,
   "metadata": {
    "colab": {
     "base_uri": "https://localhost:8080/"
    },
    "id": "9ZtAxMslHrTq",
    "outputId": "eb35ea15-45e5-40e9-a8a2-9ac168f31c57"
   },
   "outputs": [
    {
     "data": {
      "text/plain": [
       "0.5772870662460567"
      ]
     },
     "execution_count": 43,
     "metadata": {},
     "output_type": "execute_result"
    }
   ],
   "source": [
    "forest_model = RandomForestClassifier(random_state=SEED).fit(x_train, y_train)\n",
    "f1_score(forest_model.predict(x_valid), y_valid)"
   ]
  },
  {
   "cell_type": "markdown",
   "metadata": {
    "id": "fAWX7v3zHrTr"
   },
   "source": [
    "### LogisticRegression"
   ]
  },
  {
   "cell_type": "code",
   "execution_count": 44,
   "metadata": {
    "colab": {
     "base_uri": "https://localhost:8080/"
    },
    "id": "C6_DdEPdHrTr",
    "outputId": "2021b62c-c6be-4a3d-8815-9e20c4b502f7"
   },
   "outputs": [
    {
     "name": "stdout",
     "output_type": "stream",
     "text": [
      "CPU times: total: 1.5 s\n",
      "Wall time: 2.09 s\n"
     ]
    },
    {
     "data": {
      "text/plain": [
       "{'max_iter': 10}"
      ]
     },
     "execution_count": 44,
     "metadata": {},
     "output_type": "execute_result"
    }
   ],
   "source": [
    "%%time\n",
    "\n",
    "params = {'max_iter': range(10, 210, 10)}\n",
    "\n",
    "model = LogisticRegression(solver='liblinear', random_state=SEED)\n",
    "\n",
    "gs = GridSearchCV(estimator=model, param_grid=params, scoring='f1')\n",
    "gs.fit(x_train, y_train)\n",
    "gs.best_params_"
   ]
  },
  {
   "cell_type": "code",
   "execution_count": 45,
   "metadata": {
    "colab": {
     "base_uri": "https://localhost:8080/",
     "height": 500
    },
    "id": "PcK_ejPcHrTs",
    "outputId": "ba7f3724-d815-474e-a9e4-73973ee11028"
   },
   "outputs": [
    {
     "name": "stdout",
     "output_type": "stream",
     "text": [
      "0.30855018587360594\n"
     ]
    },
    {
     "data": {
      "image/png": "[encoded data removed]",
      "text/plain": [
       "<Figure size 864x576 with 2 Axes>"
      ]
     },
     "metadata": {
      "needs_background": "light"
     },
     "output_type": "display_data"
    }
   ],
   "source": [
    "best_lr = LogisticRegression(max_iter=10, solver='liblinear', random_state=SEED).fit(x_train, y_train)\n",
    "y_pred = best_lr.predict(x_valid)\n",
    "\n",
    "print(f1_score(y_pred, y_valid))\n",
    "\n",
    "cm = confusion_matrix(y_valid, y_pred)\n",
    "cm_matrix = pd.DataFrame(data=cm, columns=['Predict:0', 'Predict:1'], \n",
    "                                 index=['Actual:0', 'Actual:1'])\n",
    "\n",
    "plt.figure(figsize=(12, 8))\n",
    "sns.heatmap(cm_matrix, annot=True, fmt='d', cmap='YlGnBu');"
   ]
  },
  {
   "cell_type": "markdown",
   "metadata": {
    "id": "9TgWqKr4HrTs"
   },
   "source": [
    "Из-за дизбаланса классов, модель лучше предсказывает класс **0** и ошибается на нём реже(примерно 1 раз на 26 объектах). Модель хуже предсказывает класс **1**(ошибается примерно 3 разa на 4 объектах, т.е. модель ошибается на каждом втором нулевом классе). Дальнейшее решение это проблемы - баланс классов, переходим к бэггингу."
   ]
  },
  {
   "cell_type": "markdown",
   "metadata": {
    "id": "wye8JtctHrTs"
   },
   "source": [
    "### DecisionTree"
   ]
  },
  {
   "cell_type": "code",
   "execution_count": 46,
   "metadata": {
    "colab": {
     "base_uri": "https://localhost:8080/"
    },
    "id": "S_VC1NSgHrTs",
    "outputId": "bdb8c066-f74c-4019-9c77-fecf6c0467b8"
   },
   "outputs": [
    {
     "name": "stdout",
     "output_type": "stream",
     "text": [
      "DecisionTreeClassifier(max_depth=10, random_state=7) ---> f1: 0.5706134094151213\n",
      "CPU times: total: 5.36 s\n",
      "Wall time: 6.48 s\n"
     ]
    }
   ],
   "source": [
    "%%time\n",
    "\n",
    "best_model = None\n",
    "best_score = 0\n",
    "for depth in range(5, 35, 5):\n",
    "    for leaf in range(1, 6):\n",
    "        for split in range(2, 12, 2):\n",
    "            model = DecisionTreeClassifier(max_depth=depth, min_samples_split=split,\n",
    "                                    min_samples_leaf=leaf, random_state=SEED).fit(x_train, y_train)\n",
    "            f1 = f1_score(model.predict(x_valid), y_valid)\n",
    "            if f1 > best_score:\n",
    "                best_score = f1\n",
    "                best_model = model\n",
    "print(best_model, '---> f1:', best_score)"
   ]
  },
  {
   "cell_type": "code",
   "execution_count": 47,
   "metadata": {
    "colab": {
     "base_uri": "https://localhost:8080/",
     "height": 500
    },
    "id": "tPTrIIFTHrTt",
    "outputId": "1113ed68-abe2-4849-d74c-cea993b8aaf2"
   },
   "outputs": [
    {
     "name": "stdout",
     "output_type": "stream",
     "text": [
      "0.5706134094151213\n"
     ]
    },
    {
     "data": {
      "image/png": "[encoded data removed]",
      "text/plain": [
       "<Figure size 864x576 with 2 Axes>"
      ]
     },
     "metadata": {
      "needs_background": "light"
     },
     "output_type": "display_data"
    }
   ],
   "source": [
    "best_tree = DecisionTreeClassifier(max_depth=10, random_state=SEED).fit(x_train, y_train)\n",
    "y_pred = best_tree.predict(x_valid)\n",
    "\n",
    "print(f1_score(y_pred, y_valid))\n",
    "\n",
    "cm = confusion_matrix(y_valid, y_pred)\n",
    "cm_matrix = pd.DataFrame(data=cm, columns=['Predict:0', 'Predict:1'], \n",
    "                                 index=['Actual:0', 'Actual:1'])\n",
    "\n",
    "plt.figure(figsize=(12, 8))\n",
    "sns.heatmap(cm_matrix, annot=True, fmt='d', cmap='YlGnBu');"
   ]
  },
  {
   "cell_type": "markdown",
   "metadata": {
    "id": "Mv5qKozEHrTt"
   },
   "source": [
    "Из-за дизбаланса классов, модель лучше предсказывает класс 0 и ошибается на нём реже(примерно 1 раз на 14 объектах). Модель хуже предсказывает класс 1(ошибается примерно 1 раз на 2 объектах, т.е. модель ошибается на каждом втором нулевом классе). Дальнейшее решение это проблемы - баланс классов, переходим к бэггингу."
   ]
  },
  {
   "cell_type": "markdown",
   "metadata": {
    "id": "9GRP5iyMHrTt"
   },
   "source": [
    "### RandomForest"
   ]
  },
  {
   "cell_type": "code",
   "execution_count": 48,
   "metadata": {
    "colab": {
     "base_uri": "https://localhost:8080/"
    },
    "id": "qL39p6TQHrTt",
    "outputId": "e478a7b5-22b7-47ec-ac55-d238bcf9212d"
   },
   "outputs": [
    {
     "name": "stdout",
     "output_type": "stream",
     "text": [
      "Done with 100 estimators\n",
      "Done with 200 estimators\n",
      "Done with 300 estimators\n",
      "Done with 400 estimators\n",
      "Done with 500 estimators\n",
      "RandomForestClassifier(max_depth=20, n_estimators=400, random_state=7) ---> f1: 0.5865834633385335\n",
      "CPU times: total: 23min 57s\n",
      "Wall time: 37min 43s\n"
     ]
    }
   ],
   "source": [
    "%%time\n",
    "\n",
    "best_model = None\n",
    "best_score = 0\n",
    "for est in range(100, 600, 100):\n",
    "    for depth in range(5, 35, 5):\n",
    "        for leaf in range(1, 6):\n",
    "            for split in range(2, 12, 2):\n",
    "                model = RandomForestClassifier(n_estimators=est, max_depth=depth, \n",
    "                                       min_samples_leaf=leaf, min_samples_split=split, \n",
    "                                       random_state=SEED).fit(x_train, y_train)\n",
    "                f1 = f1_score(model.predict(x_valid), y_valid)\n",
    "                if f1 > best_score:\n",
    "                    best_score = f1\n",
    "                    best_model = model\n",
    "    print(f'Done with {est} estimators')\n",
    "print(best_model, '---> f1:', best_score)"
   ]
  },
  {
   "cell_type": "code",
   "execution_count": 49,
   "metadata": {
    "colab": {
     "base_uri": "https://localhost:8080/",
     "height": 500
    },
    "id": "aazqh42AHrTt",
    "outputId": "c5fa6a91-5d17-4513-bc21-4ac0bae04060"
   },
   "outputs": [
    {
     "name": "stdout",
     "output_type": "stream",
     "text": [
      "0.5865834633385335\n"
     ]
    },
    {
     "data": {
      "image/png": "[encoded data removed]",
      "text/plain": [
       "<Figure size 864x576 with 2 Axes>"
      ]
     },
     "metadata": {
      "needs_background": "light"
     },
     "output_type": "display_data"
    }
   ],
   "source": [
    "best_forest = best_model\n",
    "y_pred = best_forest.predict(x_valid)\n",
    "\n",
    "print(f1_score(y_pred, y_valid))\n",
    "\n",
    "cm = confusion_matrix(y_valid, y_pred)\n",
    "cm_matrix = pd.DataFrame(data=cm, columns=['Predict:0', 'Predict:1'], \n",
    "                                 index=['Actual:0', 'Actual:1'])\n",
    "\n",
    "plt.figure(figsize=(12, 8))\n",
    "sns.heatmap(cm_matrix, annot=True, fmt='d', cmap='YlGnBu');"
   ]
  },
  {
   "cell_type": "markdown",
   "metadata": {
    "id": "1s9uS02cHrTu"
   },
   "source": [
    "Из-за дизбаланса классов, модель лучше предсказывает класс **0** и ошибается на нём реже(примерно 1 раз на 28 объектах). Модель хуже предсказывает класс **1**(ошибается примерно 1 раз на 2 объектах, т.е. модель ошибается на каждом втором нулевом классе). Дальнейшее решение это проблемы - баланс классов, переходим к бэггингу."
   ]
  },
  {
   "cell_type": "markdown",
   "metadata": {
    "id": "foO6AU-2HrTu"
   },
   "source": [
    "## Борьба с дисбалансом"
   ]
  },
  {
   "cell_type": "markdown",
   "metadata": {
    "id": "6oeCrVsKHrTv"
   },
   "source": [
    "### Upsampling"
   ]
  },
  {
   "cell_type": "markdown",
   "metadata": {
    "id": "dUCnQa3uHrTv"
   },
   "source": [
    "Будем бороться с дизбалансом классов с помощью upsampling"
   ]
  },
  {
   "cell_type": "code",
   "execution_count": 50,
   "metadata": {
    "id": "3ut6lTPUHrTv"
   },
   "outputs": [],
   "source": [
    "def upsample(features, target, repeat):\n",
    "    features_zeros = features[target == 0]\n",
    "    features_ones = features[target == 1]\n",
    "    target_zeros = target[target == 0]\n",
    "    target_ones = target[target == 1]\n",
    "\n",
    "    features_upsampled = pd.concat([features_zeros] + [features_ones] * repeat)\n",
    "    target_upsampled = pd.concat([target_zeros] + [target_ones] * repeat)\n",
    "    \n",
    "    features_upsampled, target_upsampled = shuffle(\n",
    "        features_upsampled, target_upsampled, random_state=SEED)\n",
    "    \n",
    "    return features_upsampled, target_upsampled\n",
    "\n",
    "\n",
    "x_upsampled, y_upsampled = upsample(x_train, y_train, 4)"
   ]
  },
  {
   "cell_type": "markdown",
   "metadata": {
    "id": "Vv0KHIIcHrTw"
   },
   "source": [
    "### LogisticRegression"
   ]
  },
  {
   "cell_type": "code",
   "execution_count": 51,
   "metadata": {
    "colab": {
     "base_uri": "https://localhost:8080/"
    },
    "id": "JAQN9UAyHrTw",
    "outputId": "709ef160-04b8-4946-9b37-a9d73b4bb872"
   },
   "outputs": [
    {
     "name": "stdout",
     "output_type": "stream",
     "text": [
      "LogisticRegression(max_iter=10, random_state=7, solver='liblinear') ---> f1: 0.4995617879053462\n",
      "CPU times: total: 297 ms\n",
      "Wall time: 561 ms\n"
     ]
    }
   ],
   "source": [
    "%%time\n",
    "\n",
    "best_model = None\n",
    "best_score = 0\n",
    "for iter in range(10, 210, 10):\n",
    "    model = LogisticRegression(max_iter=iter, solver='liblinear', random_state=SEED).fit(x_upsampled, y_upsampled)\n",
    "    f1 = f1_score(model.predict(x_valid), y_valid)\n",
    "    if f1 > best_score:\n",
    "        best_score = f1\n",
    "        best_model = model\n",
    "print(best_model, '---> f1:', best_score)"
   ]
  },
  {
   "cell_type": "code",
   "execution_count": 52,
   "metadata": {
    "colab": {
     "base_uri": "https://localhost:8080/",
     "height": 500
    },
    "id": "wJ4BxY3THrT2",
    "outputId": "7bf8ad13-44b9-489a-8f62-a70d53db1cd4"
   },
   "outputs": [
    {
     "name": "stdout",
     "output_type": "stream",
     "text": [
      "0.4995617879053462\n"
     ]
    },
    {
     "data": {
      "image/png": "[encoded data removed]",
      "text/plain": [
       "<Figure size 864x576 with 2 Axes>"
      ]
     },
     "metadata": {
      "needs_background": "light"
     },
     "output_type": "display_data"
    }
   ],
   "source": [
    "best_lr = best_model\n",
    "y_pred = best_lr.predict(x_valid)\n",
    "\n",
    "print(f1_score(y_pred, y_valid))\n",
    "\n",
    "cm = confusion_matrix(y_valid, y_pred)\n",
    "cm_matrix = pd.DataFrame(data=cm, columns=['Predict:0', 'Predict:1'], \n",
    "                                 index=['Actual:0', 'Actual:1'])\n",
    "\n",
    "plt.figure(figsize=(12, 8))\n",
    "sns.heatmap(cm_matrix, annot=True, fmt='d', cmap='YlGnBu');"
   ]
  },
  {
   "cell_type": "markdown",
   "metadata": {
    "id": "pFkI9WcQHrT2"
   },
   "source": [
    "### DecisionTree"
   ]
  },
  {
   "cell_type": "code",
   "execution_count": 53,
   "metadata": {
    "colab": {
     "base_uri": "https://localhost:8080/"
    },
    "id": "72tW6sVYHrT3",
    "outputId": "927f4e95-1e8c-4716-a33c-563880e5d658"
   },
   "outputs": [
    {
     "name": "stdout",
     "output_type": "stream",
     "text": [
      "DecisionTreeClassifier(max_depth=5, min_samples_leaf=2, random_state=7) ---> f1: 0.5432314410480349\n",
      "CPU times: total: 5.73 s\n",
      "Wall time: 8.31 s\n"
     ]
    }
   ],
   "source": [
    "%%time\n",
    "\n",
    "best_model = None\n",
    "best_score = 0\n",
    "for depth in range(5, 35, 5):\n",
    "    for leaf in range(1, 6):\n",
    "        for split in range(2, 12, 2):\n",
    "            model = DecisionTreeClassifier(max_depth=depth, min_samples_split=split,\n",
    "                                    min_samples_leaf=leaf, random_state=SEED).fit(x_upsampled, y_upsampled)\n",
    "            f1 = f1_score(model.predict(x_valid), y_valid)\n",
    "            if f1 > best_score:\n",
    "                best_score = f1\n",
    "                best_model = model\n",
    "print(best_model, '---> f1:', best_score)"
   ]
  },
  {
   "cell_type": "code",
   "execution_count": 54,
   "metadata": {
    "colab": {
     "base_uri": "https://localhost:8080/",
     "height": 500
    },
    "id": "OH16IjVrHrT3",
    "outputId": "6f7844b6-627a-48c2-9b3a-78ed402eff4c"
   },
   "outputs": [
    {
     "name": "stdout",
     "output_type": "stream",
     "text": [
      "0.5432314410480349\n"
     ]
    },
    {
     "data": {
      "image/png": "[encoded data removed]",
      "text/plain": [
       "<Figure size 864x576 with 2 Axes>"
      ]
     },
     "metadata": {
      "needs_background": "light"
     },
     "output_type": "display_data"
    }
   ],
   "source": [
    "best_tree = best_model\n",
    "y_pred = best_tree.predict(x_valid)\n",
    "\n",
    "print(f1_score(y_pred, y_valid))\n",
    "\n",
    "cm = confusion_matrix(y_valid, y_pred)\n",
    "cm_matrix = pd.DataFrame(data=cm, columns=['Predict:0', 'Predict:1'], \n",
    "                                 index=['Actual:0', 'Actual:1'])\n",
    "\n",
    "plt.figure(figsize=(12, 8))\n",
    "sns.heatmap(cm_matrix, annot=True, fmt='d', cmap='YlGnBu');"
   ]
  },
  {
   "cell_type": "markdown",
   "metadata": {
    "id": "n4PcE95HHrT4"
   },
   "source": [
    "### RandomForest"
   ]
  },
  {
   "cell_type": "code",
   "execution_count": 68,
   "metadata": {
    "colab": {
     "base_uri": "https://localhost:8080/"
    },
    "id": "-R9TbavhHrT4",
    "outputId": "0d5609b2-4731-4035-b618-8e18b2577999"
   },
   "outputs": [
    {
     "name": "stdout",
     "output_type": "stream",
     "text": [
      "Done with 100 estimators\n",
      "Done with 200 estimators\n",
      "Done with 300 estimators\n",
      "Done with 400 estimators\n",
      "Done with 500 estimators\n",
      "RandomForestClassifier(max_depth=25, min_samples_leaf=2, min_samples_split=6,\n",
      "                       n_estimators=300, random_state=7) ---> f1: 0.6310432569974554\n",
      "CPU times: total: 36min 30s\n",
      "Wall time: 50min 34s\n"
     ]
    }
   ],
   "source": [
    "%%time\n",
    "\n",
    "best_model = None\n",
    "best_score = 0\n",
    "for est in range(100, 600, 100):\n",
    "    for depth in range(5, 35, 5):\n",
    "        for leaf in range(1, 6):\n",
    "            for split in range(2, 12, 2):\n",
    "                model = RandomForestClassifier(n_estimators=est, max_depth=depth, \n",
    "                                           min_samples_leaf=leaf, min_samples_split=split, \n",
    "                                           random_state=SEED).fit(x_upsampled, y_upsampled)\n",
    "                f1 = f1_score(model.predict(x_valid), y_valid)\n",
    "                if f1 > best_score:\n",
    "                    best_score = f1\n",
    "                    best_model = model\n",
    "    print(f'Done with {est} estimators')\n",
    "print(best_model, '---> f1:', best_score)"
   ]
  },
  {
   "cell_type": "code",
   "execution_count": 56,
   "metadata": {
    "colab": {
     "base_uri": "https://localhost:8080/",
     "height": 500
    },
    "id": "3awJE-qZHrT5",
    "outputId": "531b0207-8158-46bc-cf64-1bb4e79d7bb5"
   },
   "outputs": [
    {
     "name": "stdout",
     "output_type": "stream",
     "text": [
      "0.6310432569974554\n"
     ]
    },
    {
     "data": {
      "image/png": "[encoded data removed]",
      "text/plain": [
       "<Figure size 864x576 with 2 Axes>"
      ]
     },
     "metadata": {
      "needs_background": "light"
     },
     "output_type": "display_data"
    }
   ],
   "source": [
    "best_forest = best_model\n",
    "y_pred = best_forest.predict(x_valid)\n",
    "\n",
    "print(f1_score(y_pred, y_valid))\n",
    "\n",
    "cm = confusion_matrix(y_valid, y_pred)\n",
    "cm_matrix = pd.DataFrame(data=cm, columns=['Predict:0', 'Predict:1'], \n",
    "                                 index=['Actual:0', 'Actual:1'])\n",
    "\n",
    "plt.figure(figsize=(12, 8))\n",
    "sns.heatmap(cm_matrix, annot=True, fmt='d', cmap='YlGnBu');"
   ]
  },
  {
   "cell_type": "markdown",
   "metadata": {
    "id": "gRk0O07THrT5"
   },
   "source": [
    "При использовании upsampling, мы смогли повысить f1-меру на LogisticRegression до 0.49, на DecisionTreeClassifier до 0.54, на RandomForestClassifier до 0.63"
   ]
  },
  {
   "cell_type": "markdown",
   "metadata": {
    "id": "KAKeRxjHHrT6"
   },
   "source": [
    "### Downsampling"
   ]
  },
  {
   "cell_type": "markdown",
   "metadata": {
    "id": "4n1NsoxeHrT6"
   },
   "source": [
    "Теперь попробуем бороться с дизбалансом классов с помощью downsampling"
   ]
  },
  {
   "cell_type": "code",
   "execution_count": 57,
   "metadata": {
    "id": "jpGkQ7ncHrT6"
   },
   "outputs": [],
   "source": [
    "def downsample(features, target, fraction):\n",
    "    features_zeros = features[target == 0]\n",
    "    features_ones = features[target == 1]\n",
    "    target_zeros = target[target == 0]\n",
    "    target_ones = target[target == 1]\n",
    "\n",
    "    features_downsampled = pd.concat(\n",
    "        [features_zeros.sample(frac=fraction, random_state=SEED)] + [features_ones])\n",
    "    target_downsampled = pd.concat(\n",
    "        [target_zeros.sample(frac=fraction, random_state=SEED)] + [target_ones])\n",
    "    \n",
    "    features_downsampled, target_downsampled = shuffle(\n",
    "        features_downsampled, target_downsampled, random_state=SEED)\n",
    "    \n",
    "    return features_downsampled, target_downsampled\n",
    "\n",
    "x_downsampled, y_downsampled = downsample(x_train, y_train, 0.25)"
   ]
  },
  {
   "cell_type": "markdown",
   "metadata": {
    "id": "JNuSrP8rHrT6"
   },
   "source": [
    "### LogisticRegression"
   ]
  },
  {
   "cell_type": "code",
   "execution_count": 58,
   "metadata": {
    "colab": {
     "base_uri": "https://localhost:8080/"
    },
    "id": "FDn0WnRiHrT7",
    "outputId": "5d9d40c9-6831-47e0-e729-23bd2ffff916"
   },
   "outputs": [
    {
     "name": "stdout",
     "output_type": "stream",
     "text": [
      "LogisticRegression(max_iter=10, random_state=7, solver='liblinear') ---> f1: 0.4974003466204505\n",
      "CPU times: total: 15.6 ms\n",
      "Wall time: 220 ms\n"
     ]
    }
   ],
   "source": [
    "%%time\n",
    "\n",
    "best_model = None\n",
    "best_score = 0\n",
    "for iter in range(10, 210, 10):\n",
    "    model = LogisticRegression(max_iter=iter, solver='liblinear', random_state=SEED).fit(x_downsampled, y_downsampled)\n",
    "    f1 = f1_score(model.predict(x_valid), y_valid)\n",
    "    if f1 > best_score:\n",
    "        best_score = f1\n",
    "        best_model = model\n",
    "print(best_model, '---> f1:', best_score)"
   ]
  },
  {
   "cell_type": "code",
   "execution_count": 59,
   "metadata": {
    "colab": {
     "base_uri": "https://localhost:8080/",
     "height": 500
    },
    "id": "cQAZVZijHrT7",
    "outputId": "67e87e7b-3c19-451e-eb4b-ac59a9f9adf4"
   },
   "outputs": [
    {
     "name": "stdout",
     "output_type": "stream",
     "text": [
      "0.4974003466204505\n"
     ]
    },
    {
     "data": {
      "image/png": "[encoded data removed]",
      "text/plain": [
       "<Figure size 864x576 with 2 Axes>"
      ]
     },
     "metadata": {
      "needs_background": "light"
     },
     "output_type": "display_data"
    }
   ],
   "source": [
    "best_lr = best_model\n",
    "y_pred = best_lr.predict(x_valid)\n",
    "\n",
    "print(f1_score(y_pred, y_valid))\n",
    "\n",
    "cm = confusion_matrix(y_valid, y_pred)\n",
    "cm_matrix = pd.DataFrame(data=cm, columns=['Predict:0', 'Predict:1'], \n",
    "                                 index=['Actual:0', 'Actual:1'])\n",
    "\n",
    "plt.figure(figsize=(12, 8))\n",
    "sns.heatmap(cm_matrix, annot=True, fmt='d', cmap='YlGnBu');"
   ]
  },
  {
   "cell_type": "markdown",
   "metadata": {
    "id": "msVSsrqVHrT7"
   },
   "source": [
    "### DecisionTree"
   ]
  },
  {
   "cell_type": "code",
   "execution_count": 60,
   "metadata": {
    "colab": {
     "base_uri": "https://localhost:8080/"
    },
    "id": "pvyJEqbLHrT8",
    "outputId": "7da9e98d-34ba-4f83-b002-9cc0a517d99b"
   },
   "outputs": [
    {
     "name": "stdout",
     "output_type": "stream",
     "text": [
      "DecisionTreeClassifier(max_depth=5, min_samples_leaf=3, min_samples_split=10,\n",
      "                       random_state=7) ---> f1: 0.5529953917050692\n",
      "CPU times: total: 2.06 s\n",
      "Wall time: 2.7 s\n"
     ]
    }
   ],
   "source": [
    "%%time\n",
    "\n",
    "best_model = None\n",
    "best_score = 0\n",
    "for depth in range(5, 35, 5):\n",
    "    for leaf in range(1, 6):\n",
    "        for split in range(2, 12, 2):\n",
    "            model = DecisionTreeClassifier(max_depth=depth, min_samples_split=split,\n",
    "                                     min_samples_leaf=leaf, random_state=SEED).fit(x_downsampled, y_downsampled)\n",
    "            f1 = f1_score(model.predict(x_valid), y_valid)\n",
    "            if f1 > best_score:\n",
    "                best_score = f1\n",
    "                best_model = model\n",
    "print(best_model, '---> f1:', best_score)"
   ]
  },
  {
   "cell_type": "code",
   "execution_count": 61,
   "metadata": {
    "colab": {
     "base_uri": "https://localhost:8080/",
     "height": 500
    },
    "id": "mFcr_D1-HrT8",
    "outputId": "065c32ad-d6d6-470c-9f52-792d540bb7b2"
   },
   "outputs": [
    {
     "name": "stdout",
     "output_type": "stream",
     "text": [
      "0.5529953917050692\n"
     ]
    },
    {
     "data": {
      "image/png": "[encoded data removed]",
      "text/plain": [
       "<Figure size 864x576 with 2 Axes>"
      ]
     },
     "metadata": {
      "needs_background": "light"
     },
     "output_type": "display_data"
    }
   ],
   "source": [
    "best_tree = best_model\n",
    "y_pred = best_tree.predict(x_valid)\n",
    "\n",
    "print(f1_score(y_pred, y_valid))\n",
    "\n",
    "cm = confusion_matrix(y_valid, y_pred)\n",
    "cm_matrix = pd.DataFrame(data=cm, columns=['Predict:0', 'Predict:1'], \n",
    "                                 index=['Actual:0', 'Actual:1'])\n",
    "\n",
    "plt.figure(figsize=(12, 8))\n",
    "sns.heatmap(cm_matrix, annot=True, fmt='d', cmap='YlGnBu');"
   ]
  },
  {
   "cell_type": "markdown",
   "metadata": {
    "id": "CiA74aCqHrT8"
   },
   "source": [
    "### RandomForest"
   ]
  },
  {
   "cell_type": "code",
   "execution_count": 69,
   "metadata": {
    "colab": {
     "base_uri": "https://localhost:8080/"
    },
    "id": "5oBgqEy-HrT8",
    "outputId": "642e3cb4-d998-41e1-bf4e-6d8d1f7ae7dd"
   },
   "outputs": [
    {
     "name": "stdout",
     "output_type": "stream",
     "text": [
      "Done with 100 estimators\n",
      "Done with 200 estimators\n",
      "Done with 300 estimators\n",
      "Done with 400 estimators\n",
      "Done with 500 estimators\n",
      "RandomForestClassifier(max_depth=5, min_samples_leaf=4, n_estimators=300,\n",
      "                       random_state=7) ---> f1: 0.6047904191616766\n",
      "CPU times: total: 12min 26s\n",
      "Wall time: 17min 58s\n"
     ]
    }
   ],
   "source": [
    "%%time\n",
    "\n",
    "best_model = None\n",
    "best_score = 0\n",
    "for est in range(100, 600, 100):\n",
    "    for depth in range(5, 35, 5):\n",
    "        for leaf in range(1, 6):\n",
    "            for split in range(2, 12, 2):\n",
    "                model = RandomForestClassifier(n_estimators=est, max_depth=depth, \n",
    "                                       min_samples_leaf=leaf, min_samples_split=split, \n",
    "                                       random_state=SEED).fit(x_downsampled, y_downsampled)\n",
    "                f1 = f1_score(model.predict(x_valid), y_valid)\n",
    "                if f1 > best_score:\n",
    "                    best_score = f1\n",
    "                    best_model = model\n",
    "    print(f'Done with {est} estimators')\n",
    "print(best_model, '---> f1:', best_score)"
   ]
  },
  {
   "cell_type": "code",
   "execution_count": 63,
   "metadata": {
    "colab": {
     "base_uri": "https://localhost:8080/",
     "height": 500
    },
    "id": "aXCGkV5xHrT9",
    "outputId": "4d919801-f1fd-4f9b-8f0b-44dac17375b5"
   },
   "outputs": [
    {
     "name": "stdout",
     "output_type": "stream",
     "text": [
      "0.6047904191616766\n"
     ]
    },
    {
     "data": {
      "image/png": "[encoded data removed]",
      "text/plain": [
       "<Figure size 864x576 with 2 Axes>"
      ]
     },
     "metadata": {
      "needs_background": "light"
     },
     "output_type": "display_data"
    }
   ],
   "source": [
    "best_forest = best_model\n",
    "y_pred = best_forest.predict(x_valid)\n",
    "\n",
    "print(f1_score(y_pred, y_valid))\n",
    "\n",
    "cm = confusion_matrix(y_valid, y_pred)\n",
    "cm_matrix = pd.DataFrame(data=cm, columns=['Predict:0', 'Predict:1'], \n",
    "                                 index=['Actual:0', 'Actual:1'])\n",
    "\n",
    "plt.figure(figsize=(12, 8))\n",
    "sns.heatmap(cm_matrix, annot=True, fmt='d', cmap='YlGnBu');"
   ]
  },
  {
   "cell_type": "markdown",
   "metadata": {},
   "source": [
    "При использовании upsampling, мы смогли повысить f1-меру на LogisticRegression до 0.49, на DecisionTreeClassifier до 0.55, на RandomForestClassifier до 0.6"
   ]
  },
  {
   "cell_type": "markdown",
   "metadata": {
    "id": "PJIcKG-VHrT9"
   },
   "source": [
    "Финальной моделью становиться случайный лес, обученный с помощью увеличения выборки т.к. по метрикам он лучше."
   ]
  },
  {
   "cell_type": "markdown",
   "metadata": {
    "id": "Sflgc2FVHrT9"
   },
   "source": [
    "## Тестирование модели"
   ]
  },
  {
   "cell_type": "code",
   "execution_count": 71,
   "metadata": {
    "id": "HOHd116P_mkN"
   },
   "outputs": [],
   "source": [
    "best_forest = RandomForestClassifier(max_depth=25, min_samples_leaf=2, min_samples_split=6,\n",
    "                       n_estimators=300, random_state=7).fit(x_upsampled, y_upsampled)"
   ]
  },
  {
   "cell_type": "code",
   "execution_count": 72,
   "metadata": {
    "colab": {
     "base_uri": "https://localhost:8080/"
    },
    "id": "M8R1iFouHrT9",
    "outputId": "f793f272-8c3e-4138-b270-6d24860e5400"
   },
   "outputs": [
    {
     "name": "stdout",
     "output_type": "stream",
     "text": [
      "f1_score forest: 0.6032138442521632\n",
      "acc on forest: 0.8395\n",
      "roc_auc on forest: 0.8587570621468925\n"
     ]
    }
   ],
   "source": [
    "y_pred_test = best_forest.predict(x_test)\n",
    "probabilities_test = best_forest.predict_proba(x_test)[:, 1]\n",
    "\n",
    "print('f1_score forest:', f1_score(y_test, y_pred_test))\n",
    "print('acc on forest:', accuracy_score(y_test, y_pred_test))\n",
    "print('roc_auc on forest:', roc_auc_score(y_test, probabilities_test))"
   ]
  },
  {
   "cell_type": "markdown",
   "metadata": {
    "id": "o-5U_Er5HrT_"
   },
   "source": [
    "## Чек-лист готовности проекта"
   ]
  },
  {
   "cell_type": "markdown",
   "metadata": {
    "id": "Gn2Dv5KcHrT_"
   },
   "source": [
    "- [x]  Jupyter Notebook открыт\n",
    "- [X]  Весь код выполняется без ошибок\n",
    "- [X]  Ячейки с кодом расположены в порядке исполнения\n",
    "- [X]  Выполнен шаг 1: данные подготовлены\n",
    "- [X]  Выполнен шаг 2: задача исследована\n",
    "    - [X]  Исследован баланс классов\n",
    "    - [X]  Изучены модели без учёта дисбаланса\n",
    "    - [X]  Написаны выводы по результатам исследования\n",
    "- [X]  Выполнен шаг 3: учтён дисбаланс\n",
    "    - [X]  Применено несколько способов борьбы с дисбалансом\n",
    "    - [X]  Написаны выводы по результатам исследования\n",
    "- [X]  Выполнен шаг 4: проведено тестирование\n",
    "- [X]  Удалось достичь *F1*-меры не менее 0.59\n",
    "- [X]  Исследована метрика *AUC-ROC*"
   ]
  }
 ],
 "metadata": {
  "ExecuteTimeLog": [
   {
    "duration": 625,
    "start_time": "2023-02-14T16:26:46.020Z"
   },
   {
    "duration": 16,
    "start_time": "2023-02-14T16:27:09.856Z"
   },
   {
    "duration": 1083,
    "start_time": "2023-02-14T16:28:14.508Z"
   },
   {
    "duration": 11938,
    "start_time": "2023-02-14T16:29:27.438Z"
   },
   {
    "duration": 1189,
    "start_time": "2023-02-16T20:33:33.667Z"
   },
   {
    "duration": 198,
    "start_time": "2023-02-16T20:33:37.855Z"
   },
   {
    "duration": 39,
    "start_time": "2023-02-16T20:33:39.168Z"
   },
   {
    "duration": 12,
    "start_time": "2023-02-16T20:33:39.645Z"
   },
   {
    "duration": 4,
    "start_time": "2023-02-16T20:33:40.047Z"
   },
   {
    "duration": 17,
    "start_time": "2023-02-16T20:33:40.376Z"
   },
   {
    "duration": 1580,
    "start_time": "2023-02-16T20:33:40.896Z"
   },
   {
    "duration": 185,
    "start_time": "2023-02-16T20:33:42.478Z"
   },
   {
    "duration": 5,
    "start_time": "2023-02-16T20:33:42.916Z"
   },
   {
    "duration": 16,
    "start_time": "2023-02-16T20:33:46.503Z"
   },
   {
    "duration": 8,
    "start_time": "2023-02-16T20:33:46.626Z"
   },
   {
    "duration": 9,
    "start_time": "2023-02-16T20:33:46.784Z"
   },
   {
    "duration": 5,
    "start_time": "2023-02-16T20:33:46.935Z"
   },
   {
    "duration": 8,
    "start_time": "2023-02-16T20:33:48.226Z"
   },
   {
    "duration": 12,
    "start_time": "2023-02-16T20:33:48.737Z"
   },
   {
    "duration": 239,
    "start_time": "2023-02-16T20:33:50.407Z"
   },
   {
    "duration": 176,
    "start_time": "2023-02-16T20:33:52.333Z"
   },
   {
    "duration": 7,
    "start_time": "2023-02-16T20:33:54.774Z"
   },
   {
    "duration": 18,
    "start_time": "2023-02-16T20:33:56.196Z"
   },
   {
    "duration": 20,
    "start_time": "2023-02-16T20:34:00.435Z"
   },
   {
    "duration": 5,
    "start_time": "2023-02-16T20:34:02.794Z"
   },
   {
    "duration": 6,
    "start_time": "2023-02-16T20:34:03.827Z"
   },
   {
    "duration": 12,
    "start_time": "2023-02-16T20:34:05.775Z"
   },
   {
    "duration": 7,
    "start_time": "2023-02-16T20:34:05.986Z"
   },
   {
    "duration": 5,
    "start_time": "2023-02-16T20:34:06.957Z"
   },
   {
    "duration": 3,
    "start_time": "2023-02-16T20:34:08.738Z"
   },
   {
    "duration": 432,
    "start_time": "2023-02-16T20:34:16.358Z"
   },
   {
    "duration": 319,
    "start_time": "2023-02-16T20:34:30.455Z"
   },
   {
    "duration": 115,
    "start_time": "2023-02-16T20:34:30.777Z"
   },
   {
    "duration": 10,
    "start_time": "2023-02-16T20:34:30.985Z"
   },
   {
    "duration": 3122,
    "start_time": "2023-02-16T20:34:35.377Z"
   },
   {
    "duration": 129,
    "start_time": "2023-02-16T20:34:39.296Z"
   },
   {
    "duration": 19,
    "start_time": "2023-02-16T20:34:40.369Z"
   },
   {
    "duration": 2,
    "start_time": "2023-02-16T20:34:40.736Z"
   },
   {
    "duration": 42,
    "start_time": "2023-02-16T20:34:40.866Z"
   },
   {
    "duration": 32,
    "start_time": "2023-02-16T20:34:42.696Z"
   },
   {
    "duration": 28,
    "start_time": "2023-02-16T20:34:44.218Z"
   },
   {
    "duration": 26,
    "start_time": "2023-02-16T20:34:46.932Z"
   },
   {
    "duration": 26,
    "start_time": "2023-02-16T20:34:49.798Z"
   },
   {
    "duration": 22,
    "start_time": "2023-02-16T20:34:50.807Z"
   },
   {
    "duration": 5,
    "start_time": "2023-02-16T20:34:51.325Z"
   },
   {
    "duration": 124,
    "start_time": "2023-02-16T20:34:59.630Z"
   },
   {
    "duration": 4750,
    "start_time": "2023-02-16T20:35:12.268Z"
   },
   {
    "duration": 13,
    "start_time": "2023-02-16T20:36:02.141Z"
   },
   {
    "duration": 3,
    "start_time": "2023-02-16T20:36:03.709Z"
   },
   {
    "duration": 43,
    "start_time": "2023-02-16T20:36:03.857Z"
   },
   {
    "duration": 22,
    "start_time": "2023-02-16T20:36:04.237Z"
   },
   {
    "duration": 28,
    "start_time": "2023-02-16T20:36:04.913Z"
   },
   {
    "duration": 31,
    "start_time": "2023-02-16T20:36:05.296Z"
   },
   {
    "duration": 30,
    "start_time": "2023-02-16T20:36:06.036Z"
   },
   {
    "duration": 36,
    "start_time": "2023-02-16T20:36:06.580Z"
   },
   {
    "duration": 5,
    "start_time": "2023-02-16T20:36:06.633Z"
   },
   {
    "duration": 4774,
    "start_time": "2023-02-16T20:36:23.878Z"
   },
   {
    "duration": 1155,
    "start_time": "2023-02-17T14:10:10.062Z"
   },
   {
    "duration": 90,
    "start_time": "2023-02-17T14:10:11.219Z"
   },
   {
    "duration": 41,
    "start_time": "2023-02-17T14:10:11.311Z"
   },
   {
    "duration": 13,
    "start_time": "2023-02-17T14:10:11.354Z"
   },
   {
    "duration": 3,
    "start_time": "2023-02-17T14:10:11.369Z"
   },
   {
    "duration": 17,
    "start_time": "2023-02-17T14:10:11.374Z"
   },
   {
    "duration": 1602,
    "start_time": "2023-02-17T14:10:11.392Z"
   },
   {
    "duration": 168,
    "start_time": "2023-02-17T14:10:12.995Z"
   },
   {
    "duration": 5,
    "start_time": "2023-02-17T14:10:13.165Z"
   },
   {
    "duration": 12,
    "start_time": "2023-02-17T14:10:13.174Z"
   },
   {
    "duration": 14,
    "start_time": "2023-02-17T14:10:13.189Z"
   },
   {
    "duration": 7,
    "start_time": "2023-02-17T14:10:13.205Z"
   },
   {
    "duration": 11,
    "start_time": "2023-02-17T14:10:13.214Z"
   },
   {
    "duration": 27,
    "start_time": "2023-02-17T14:10:13.227Z"
   },
   {
    "duration": 19,
    "start_time": "2023-02-17T14:10:13.256Z"
   },
   {
    "duration": 263,
    "start_time": "2023-02-17T14:10:13.277Z"
   },
   {
    "duration": 203,
    "start_time": "2023-02-17T14:10:13.543Z"
   },
   {
    "duration": 12,
    "start_time": "2023-02-17T14:10:13.748Z"
   },
   {
    "duration": 15,
    "start_time": "2023-02-17T14:10:13.762Z"
   },
   {
    "duration": 26,
    "start_time": "2023-02-17T14:10:13.779Z"
   },
   {
    "duration": 4,
    "start_time": "2023-02-17T14:10:13.807Z"
   },
   {
    "duration": 9,
    "start_time": "2023-02-17T14:10:13.813Z"
   },
   {
    "duration": 8,
    "start_time": "2023-02-17T14:10:13.853Z"
   },
   {
    "duration": 17,
    "start_time": "2023-02-17T14:10:13.862Z"
   },
   {
    "duration": 10,
    "start_time": "2023-02-17T14:10:13.881Z"
   },
   {
    "duration": 14,
    "start_time": "2023-02-17T14:10:13.893Z"
   },
   {
    "duration": 404,
    "start_time": "2023-02-17T14:10:13.909Z"
   },
   {
    "duration": 3261,
    "start_time": "2023-02-17T14:10:14.317Z"
   },
   {
    "duration": 573,
    "start_time": "2023-02-17T14:10:17.588Z"
   },
   {
    "duration": 19,
    "start_time": "2023-02-17T14:10:18.163Z"
   },
   {
    "duration": 4,
    "start_time": "2023-02-17T14:10:18.184Z"
   },
   {
    "duration": 45,
    "start_time": "2023-02-17T14:10:18.190Z"
   },
   {
    "duration": 40,
    "start_time": "2023-02-17T14:10:18.237Z"
   },
   {
    "duration": 24,
    "start_time": "2023-02-17T14:10:18.279Z"
   },
   {
    "duration": 59,
    "start_time": "2023-02-17T14:10:18.304Z"
   },
   {
    "duration": 35,
    "start_time": "2023-02-17T14:10:18.365Z"
   },
   {
    "duration": 26,
    "start_time": "2023-02-17T14:10:18.402Z"
   },
   {
    "duration": 26,
    "start_time": "2023-02-17T14:10:18.430Z"
   },
   {
    "duration": 2776,
    "start_time": "2023-02-17T14:10:18.458Z"
   },
   {
    "duration": 411,
    "start_time": "2023-02-17T14:10:21.237Z"
   },
   {
    "duration": 3,
    "start_time": "2023-02-17T14:10:21.650Z"
   },
   {
    "duration": 8407,
    "start_time": "2023-02-17T14:10:21.654Z"
   },
   {
    "duration": 713,
    "start_time": "2023-02-17T14:10:30.063Z"
   },
   {
    "duration": 48871,
    "start_time": "2023-02-17T14:10:30.778Z"
   },
   {
    "duration": 70533,
    "start_time": "2023-02-17T14:11:19.654Z"
   },
   {
    "duration": 2392,
    "start_time": "2023-02-17T14:12:30.189Z"
   },
   {
    "duration": 4557,
    "start_time": "2023-02-17T14:12:32.583Z"
   },
   {
    "duration": 39596,
    "start_time": "2023-02-17T14:12:37.141Z"
   },
   {
    "duration": 1502,
    "start_time": "2023-02-17T14:13:16.739Z"
   },
   {
    "duration": 11,
    "start_time": "2023-02-17T14:13:18.242Z"
   },
   {
    "duration": 12,
    "start_time": "2023-02-17T14:13:18.254Z"
   },
   {
    "duration": 3248,
    "start_time": "2023-02-17T14:13:18.268Z"
   },
   {
    "duration": 1808,
    "start_time": "2023-02-17T14:13:21.518Z"
   },
   {
    "duration": 126,
    "start_time": "2023-02-17T14:13:23.327Z"
   },
   {
    "duration": 207,
    "start_time": "2023-02-17T14:13:23.455Z"
   },
   {
    "duration": 84,
    "start_time": "2023-02-17T17:39:43.889Z"
   },
   {
    "duration": 6526,
    "start_time": "2023-02-17T17:39:57.009Z"
   },
   {
    "duration": 1581,
    "start_time": "2023-02-17T17:40:03.537Z"
   },
   {
    "duration": 588,
    "start_time": "2023-02-17T17:40:05.121Z"
   },
   {
    "duration": 308,
    "start_time": "2023-02-17T17:40:05.712Z"
   },
   {
    "duration": 2287,
    "start_time": "2023-02-17T17:44:01.626Z"
   },
   {
    "duration": 1265,
    "start_time": "2023-02-17T17:44:03.916Z"
   },
   {
    "duration": 326,
    "start_time": "2023-02-17T17:44:05.182Z"
   },
   {
    "duration": 27,
    "start_time": "2023-02-17T17:44:05.511Z"
   },
   {
    "duration": 98,
    "start_time": "2023-02-17T17:44:10.126Z"
   },
   {
    "duration": 59,
    "start_time": "2023-02-17T17:44:11.808Z"
   },
   {
    "duration": 17,
    "start_time": "2023-02-17T17:44:12.349Z"
   },
   {
    "duration": 9,
    "start_time": "2023-02-17T17:44:15.282Z"
   },
   {
    "duration": 22,
    "start_time": "2023-02-17T17:44:16.378Z"
   },
   {
    "duration": 20,
    "start_time": "2023-02-17T17:44:31.431Z"
   },
   {
    "duration": 849,
    "start_time": "2023-02-17T17:45:04.474Z"
   },
   {
    "duration": 820,
    "start_time": "2023-02-17T17:45:07.892Z"
   },
   {
    "duration": 20,
    "start_time": "2023-02-17T17:45:45.999Z"
   },
   {
    "duration": 5,
    "start_time": "2023-02-17T17:46:34.592Z"
   },
   {
    "duration": 22,
    "start_time": "2023-02-17T17:47:08.870Z"
   },
   {
    "duration": 31,
    "start_time": "2023-02-17T17:48:07.746Z"
   },
   {
    "duration": 14,
    "start_time": "2023-02-17T17:48:41.284Z"
   },
   {
    "duration": 13,
    "start_time": "2023-02-17T17:49:04.286Z"
   },
   {
    "duration": 6,
    "start_time": "2023-02-17T17:54:01.618Z"
   },
   {
    "duration": 18,
    "start_time": "2023-02-17T17:54:05.379Z"
   },
   {
    "duration": 6,
    "start_time": "2023-02-17T17:55:24.720Z"
   },
   {
    "duration": 5,
    "start_time": "2023-02-17T17:56:00.080Z"
   },
   {
    "duration": 5,
    "start_time": "2023-02-17T17:56:00.434Z"
   },
   {
    "duration": 14,
    "start_time": "2023-02-17T17:56:11.232Z"
   },
   {
    "duration": 21,
    "start_time": "2023-02-17T17:56:28.310Z"
   },
   {
    "duration": 4,
    "start_time": "2023-02-17T17:57:17.545Z"
   },
   {
    "duration": 19,
    "start_time": "2023-02-17T17:57:18.145Z"
   },
   {
    "duration": 294,
    "start_time": "2023-02-17T17:57:22.390Z"
   },
   {
    "duration": 269,
    "start_time": "2023-02-17T17:57:25.454Z"
   },
   {
    "duration": 13,
    "start_time": "2023-02-17T17:57:27.495Z"
   },
   {
    "duration": 17,
    "start_time": "2023-02-17T17:57:28.430Z"
   },
   {
    "duration": 20,
    "start_time": "2023-02-17T17:57:30.609Z"
   },
   {
    "duration": 8,
    "start_time": "2023-02-17T17:57:31.948Z"
   },
   {
    "duration": 6,
    "start_time": "2023-02-17T17:57:32.732Z"
   },
   {
    "duration": 6,
    "start_time": "2023-02-17T17:58:04.392Z"
   },
   {
    "duration": 35,
    "start_time": "2023-02-17T17:58:10.755Z"
   },
   {
    "duration": 18,
    "start_time": "2023-02-17T17:58:44.398Z"
   },
   {
    "duration": 15,
    "start_time": "2023-02-17T17:59:10.987Z"
   },
   {
    "duration": 52,
    "start_time": "2023-02-17T18:06:18.488Z"
   },
   {
    "duration": 9,
    "start_time": "2023-02-17T18:22:10.106Z"
   },
   {
    "duration": 1478,
    "start_time": "2023-02-17T18:25:02.840Z"
   },
   {
    "duration": 2815,
    "start_time": "2023-02-17T18:32:44.781Z"
   },
   {
    "duration": 392,
    "start_time": "2023-02-17T18:32:47.599Z"
   },
   {
    "duration": 25,
    "start_time": "2023-02-17T18:32:47.993Z"
   },
   {
    "duration": 5,
    "start_time": "2023-02-17T18:32:48.020Z"
   },
   {
    "duration": 108,
    "start_time": "2023-02-17T18:32:48.028Z"
   },
   {
    "duration": 56,
    "start_time": "2023-02-17T18:32:48.138Z"
   },
   {
    "duration": 14,
    "start_time": "2023-02-17T18:32:48.196Z"
   },
   {
    "duration": 4,
    "start_time": "2023-02-17T18:32:48.212Z"
   },
   {
    "duration": 40,
    "start_time": "2023-02-17T18:32:48.218Z"
   },
   {
    "duration": 32,
    "start_time": "2023-02-17T18:32:48.262Z"
   },
   {
    "duration": 21,
    "start_time": "2023-02-17T18:32:48.296Z"
   },
   {
    "duration": 17,
    "start_time": "2023-02-17T18:32:48.319Z"
   },
   {
    "duration": 21,
    "start_time": "2023-02-17T18:32:48.338Z"
   },
   {
    "duration": 32,
    "start_time": "2023-02-17T18:32:48.363Z"
   },
   {
    "duration": 201,
    "start_time": "2023-02-17T18:32:48.397Z"
   },
   {
    "duration": 5,
    "start_time": "2023-02-17T18:32:48.601Z"
   },
   {
    "duration": 32,
    "start_time": "2023-02-17T18:32:48.608Z"
   },
   {
    "duration": 16,
    "start_time": "2023-02-17T18:32:48.642Z"
   },
   {
    "duration": 100,
    "start_time": "2023-02-17T18:32:48.660Z"
   },
   {
    "duration": 42,
    "start_time": "2023-02-17T18:32:48.763Z"
   },
   {
    "duration": 13,
    "start_time": "2023-02-17T18:32:48.807Z"
   },
   {
    "duration": 19,
    "start_time": "2023-02-17T18:32:48.821Z"
   },
   {
    "duration": 405,
    "start_time": "2023-02-17T18:32:48.841Z"
   },
   {
    "duration": 257,
    "start_time": "2023-02-17T18:32:49.249Z"
   },
   {
    "duration": 8,
    "start_time": "2023-02-17T18:32:49.509Z"
   },
   {
    "duration": 84,
    "start_time": "2023-02-17T18:32:49.519Z"
   },
   {
    "duration": 34,
    "start_time": "2023-02-17T18:32:49.605Z"
   },
   {
    "duration": 49,
    "start_time": "2023-02-17T18:32:49.641Z"
   },
   {
    "duration": 24,
    "start_time": "2023-02-17T18:32:49.692Z"
   },
   {
    "duration": 56,
    "start_time": "2023-02-17T18:32:49.718Z"
   },
   {
    "duration": 7,
    "start_time": "2023-02-17T18:32:49.776Z"
   },
   {
    "duration": 495,
    "start_time": "2023-02-17T18:32:49.785Z"
   },
   {
    "duration": 13,
    "start_time": "2023-02-17T18:32:50.286Z"
   },
   {
    "duration": 37,
    "start_time": "2023-02-17T18:32:50.301Z"
   },
   {
    "duration": 52,
    "start_time": "2023-02-17T18:32:50.340Z"
   },
   {
    "duration": 24,
    "start_time": "2023-02-17T18:32:50.394Z"
   },
   {
    "duration": 57,
    "start_time": "2023-02-17T18:32:50.420Z"
   },
   {
    "duration": 26,
    "start_time": "2023-02-17T18:32:50.482Z"
   },
   {
    "duration": 23,
    "start_time": "2023-02-17T18:32:50.510Z"
   },
   {
    "duration": 5,
    "start_time": "2023-02-17T18:32:50.534Z"
   },
   {
    "duration": 203250,
    "start_time": "2023-02-17T18:32:50.559Z"
   },
   {
    "duration": 0,
    "start_time": "2023-02-17T18:36:13.811Z"
   },
   {
    "duration": 0,
    "start_time": "2023-02-17T18:36:13.812Z"
   },
   {
    "duration": 37,
    "start_time": "2023-02-17T18:36:18.511Z"
   }
  ],
  "colab": {
   "provenance": []
  },
  "kernelspec": {
   "display_name": "Python 3 (ipykernel)",
   "language": "python",
   "name": "python3"
  },
  "language_info": {
   "codemirror_mode": {
    "name": "ipython",
    "version": 3
   },
   "file_extension": ".py",
   "mimetype": "text/x-python",
   "name": "python",
   "nbconvert_exporter": "python",
   "pygments_lexer": "ipython3",
   "version": "3.9.6"
  },
  "toc": {
   "base_numbering": 1,
   "nav_menu": {},
   "number_sections": true,
   "sideBar": true,
   "skip_h1_title": true,
   "title_cell": "Содержание",
   "title_sidebar": "Contents",
   "toc_cell": true,
   "toc_position": {},
   "toc_section_display": true,
   "toc_window_display": true
  }
 },
 "nbformat": 4,
 "nbformat_minor": 1
}
